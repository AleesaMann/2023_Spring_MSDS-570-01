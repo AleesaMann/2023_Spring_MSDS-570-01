{
 "cells": [
  {
   "cell_type": "code",
   "execution_count": 1,
   "id": "b727818f",
   "metadata": {},
   "outputs": [],
   "source": [
    "import pandas as pd"
   ]
  },
  {
   "cell_type": "code",
   "execution_count": null,
   "id": "bd99dfc7",
   "metadata": {},
   "outputs": [],
   "source": [
    "# Looking at Emissions Dataset"
   ]
  },
  {
   "cell_type": "code",
   "execution_count": 2,
   "id": "a8afc5f0",
   "metadata": {},
   "outputs": [],
   "source": [
    "emissions = pd.read_csv('GCB2022v27_MtCO2_flat.csv')"
   ]
  },
  {
   "cell_type": "code",
   "execution_count": 7,
   "id": "ff8d089b",
   "metadata": {},
   "outputs": [
    {
     "data": {
      "text/plain": [
       "Index(['Country', 'ISO 3166-1 alpha-3', 'Year', 'Total', 'Coal', 'Oil', 'Gas',\n",
       "       'Cement', 'Flaring', 'Other', 'Per Capita'],\n",
       "      dtype='object')"
      ]
     },
     "execution_count": 7,
     "metadata": {},
     "output_type": "execute_result"
    }
   ],
   "source": [
    "emissions.columns"
   ]
  },
  {
   "cell_type": "code",
   "execution_count": 10,
   "id": "efbf6844",
   "metadata": {},
   "outputs": [
    {
     "name": "stdout",
     "output_type": "stream",
     "text": [
      "DF shape: (63104, 11)\n",
      "DF number of countries: 232\n",
      "DF number of years: 272 from 1750 to 2021\n"
     ]
    }
   ],
   "source": [
    "print(\"DF shape:\",emissions.shape)\n",
    "print(\"DF number of countries:\", emissions['Country'].nunique())\n",
    "print(\"DF number of years:\", emissions['Year'].nunique(), \"from\", emissions['Year'].min(), \"to\", emissions['Year'].max())"
   ]
  },
  {
   "cell_type": "code",
   "execution_count": 12,
   "id": "b3b1a969",
   "metadata": {},
   "outputs": [],
   "source": [
    "emissions = emissions.loc[emissions['Year'] >= 1950]"
   ]
  },
  {
   "cell_type": "code",
   "execution_count": 14,
   "id": "23a5b2b4",
   "metadata": {},
   "outputs": [
    {
     "data": {
      "text/plain": [
       "Country               False\n",
       "ISO 3166-1 alpha-3     True\n",
       "Year                  False\n",
       "Total                 False\n",
       "Coal                   True\n",
       "Oil                    True\n",
       "Gas                    True\n",
       "Cement                 True\n",
       "Flaring                True\n",
       "Other                  True\n",
       "Per Capita             True\n",
       "dtype: bool"
      ]
     },
     "execution_count": 14,
     "metadata": {},
     "output_type": "execute_result"
    }
   ],
   "source": [
    "emissions.isnull().any()"
   ]
  },
  {
   "cell_type": "code",
   "execution_count": 15,
   "id": "da4d6154",
   "metadata": {},
   "outputs": [
    {
     "name": "stdout",
     "output_type": "stream",
     "text": [
      "DF shape: (16704, 11)\n",
      "DF number of countries: 232\n",
      "DF number of years: 72 from 1950 to 2021\n"
     ]
    }
   ],
   "source": [
    "print(\"DF shape:\",emissions.shape)\n",
    "print(\"DF number of countries:\", emissions['Country'].nunique())\n",
    "print(\"DF number of years:\", emissions['Year'].nunique(), \"from\", emissions['Year'].min(), \"to\", emissions['Year'].max())"
   ]
  }
 ],
 "metadata": {
  "kernelspec": {
   "display_name": "Python 3 (ipykernel)",
   "language": "python",
   "name": "python3"
  },
  "language_info": {
   "codemirror_mode": {
    "name": "ipython",
    "version": 3
   },
   "file_extension": ".py",
   "mimetype": "text/x-python",
   "name": "python",
   "nbconvert_exporter": "python",
   "pygments_lexer": "ipython3",
   "version": "3.9.7"
  }
 },
 "nbformat": 4,
 "nbformat_minor": 5
}
