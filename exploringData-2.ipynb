{
 "cells": [
  {
   "cell_type": "code",
   "execution_count": 7,
   "id": "8f951d94",
   "metadata": {
    "id": "8f951d94"
   },
   "outputs": [],
   "source": [
    "import pandas as pd\n",
    "#from google.colab import drive"
   ]
  },
  {
   "cell_type": "code",
   "execution_count": 8,
   "id": "3127a07b",
   "metadata": {
    "id": "3127a07b"
   },
   "outputs": [],
   "source": [
    "# Looking at Emissions Dataset"
   ]
  },
  {
   "cell_type": "code",
   "execution_count": 9,
   "id": "776b2edd",
   "metadata": {
    "colab": {
     "base_uri": "https://localhost:8080/"
    },
    "id": "776b2edd",
    "outputId": "b645562c-113b-4671-d76e-41229871263a"
   },
   "outputs": [],
   "source": [
    "#drive.mount('/content/drive')"
   ]
  },
  {
   "cell_type": "code",
   "execution_count": 10,
   "id": "NRsBD-teBY5L",
   "metadata": {
    "id": "NRsBD-teBY5L"
   },
   "outputs": [],
   "source": [
    "#emissions = pd.read_csv('/content/drive/My Drive/VizFinalProj/GCB2022v27_MtCO2_flat.csv')\n",
    "emissions = pd.read_csv('./Emissions Datasets/GCB2022v27_MtCO2_flat.csv')"
   ]
  },
  {
   "cell_type": "code",
   "execution_count": 11,
   "id": "jG188JOvT8BK",
   "metadata": {
    "colab": {
     "base_uri": "https://localhost:8080/",
     "height": 237
    },
    "id": "jG188JOvT8BK",
    "outputId": "339196c8-6a95-4d89-dae9-1496c31f1f31"
   },
   "outputs": [
    {
     "data": {
      "text/html": [
       "<div>\n",
       "<style scoped>\n",
       "    .dataframe tbody tr th:only-of-type {\n",
       "        vertical-align: middle;\n",
       "    }\n",
       "\n",
       "    .dataframe tbody tr th {\n",
       "        vertical-align: top;\n",
       "    }\n",
       "\n",
       "    .dataframe thead th {\n",
       "        text-align: right;\n",
       "    }\n",
       "</style>\n",
       "<table border=\"1\" class=\"dataframe\">\n",
       "  <thead>\n",
       "    <tr style=\"text-align: right;\">\n",
       "      <th></th>\n",
       "      <th>tempsbyYear</th>\n",
       "      <th>emissions</th>\n",
       "    </tr>\n",
       "    <tr>\n",
       "      <th>key</th>\n",
       "      <th></th>\n",
       "      <th></th>\n",
       "    </tr>\n",
       "  </thead>\n",
       "  <tbody>\n",
       "    <tr>\n",
       "      <th>Samoa</th>\n",
       "      <td>American Samoa</td>\n",
       "      <td>Samoa</td>\n",
       "    </tr>\n",
       "    <tr>\n",
       "      <th>Antigua And Barbuda</th>\n",
       "      <td>Antigua And Barbuda</td>\n",
       "      <td>Antigua and Barbuda</td>\n",
       "    </tr>\n",
       "    <tr>\n",
       "      <th>Bonaire, Saint Eustatius And Saba</th>\n",
       "      <td>Bonaire, Saint Eustatius And Saba</td>\n",
       "      <td>Bonaire, Saint Eustatius and Saba</td>\n",
       "    </tr>\n",
       "    <tr>\n",
       "      <th>Bosnia And Herzegovina</th>\n",
       "      <td>Bosnia And Herzegovina</td>\n",
       "      <td>Bosnia and Herzegovina</td>\n",
       "    </tr>\n",
       "    <tr>\n",
       "      <th>Democratic Republic of the Congo</th>\n",
       "      <td>Congo (Democratic Republic Of The) \"Côte d'Ivo...</td>\n",
       "      <td>Democratic Republic of the Congo</td>\n",
       "    </tr>\n",
       "  </tbody>\n",
       "</table>\n",
       "</div>"
      ],
      "text/plain": [
       "                                                                         tempsbyYear  \\\n",
       "key                                                                                    \n",
       "Samoa                                                                 American Samoa   \n",
       "Antigua And Barbuda                                              Antigua And Barbuda   \n",
       "Bonaire, Saint Eustatius And Saba                  Bonaire, Saint Eustatius And Saba   \n",
       "Bosnia And Herzegovina                                        Bosnia And Herzegovina   \n",
       "Democratic Republic of the Congo   Congo (Democratic Republic Of The) \"Côte d'Ivo...   \n",
       "\n",
       "                                                           emissions  \n",
       "key                                                                   \n",
       "Samoa                                                          Samoa  \n",
       "Antigua And Barbuda                              Antigua and Barbuda  \n",
       "Bonaire, Saint Eustatius And Saba  Bonaire, Saint Eustatius and Saba  \n",
       "Bosnia And Herzegovina                        Bosnia and Herzegovina  \n",
       "Democratic Republic of the Congo    Democratic Republic of the Congo  "
      ]
     },
     "execution_count": 11,
     "metadata": {},
     "output_type": "execute_result"
    }
   ],
   "source": [
    "name_lookup = pd.read_csv('name_lookup_utf8.csv', index_col=0)\n",
    "name_lookup.head()"
   ]
  },
  {
   "cell_type": "code",
   "execution_count": 12,
   "id": "IScCFXq5XMZv",
   "metadata": {
    "colab": {
     "base_uri": "https://localhost:8080/",
     "height": 206
    },
    "id": "IScCFXq5XMZv",
    "outputId": "c304b76c-47bf-489e-9677-28320a7e8ff2"
   },
   "outputs": [
    {
     "data": {
      "text/html": [
       "<div>\n",
       "<style scoped>\n",
       "    .dataframe tbody tr th:only-of-type {\n",
       "        vertical-align: middle;\n",
       "    }\n",
       "\n",
       "    .dataframe tbody tr th {\n",
       "        vertical-align: top;\n",
       "    }\n",
       "\n",
       "    .dataframe thead th {\n",
       "        text-align: right;\n",
       "    }\n",
       "</style>\n",
       "<table border=\"1\" class=\"dataframe\">\n",
       "  <thead>\n",
       "    <tr style=\"text-align: right;\">\n",
       "      <th></th>\n",
       "      <th>Continent</th>\n",
       "    </tr>\n",
       "  </thead>\n",
       "  <tbody>\n",
       "    <tr>\n",
       "      <th>0</th>\n",
       "      <td>Antarctica</td>\n",
       "    </tr>\n",
       "    <tr>\n",
       "      <th>1</th>\n",
       "      <td>Africa</td>\n",
       "    </tr>\n",
       "    <tr>\n",
       "      <th>2</th>\n",
       "      <td>Europe</td>\n",
       "    </tr>\n",
       "    <tr>\n",
       "      <th>3</th>\n",
       "      <td>North America</td>\n",
       "    </tr>\n",
       "    <tr>\n",
       "      <th>4</th>\n",
       "      <td>South America</td>\n",
       "    </tr>\n",
       "  </tbody>\n",
       "</table>\n",
       "</div>"
      ],
      "text/plain": [
       "       Continent\n",
       "0     Antarctica\n",
       "1         Africa\n",
       "2         Europe\n",
       "3  North America\n",
       "4  South America"
      ]
     },
     "execution_count": 12,
     "metadata": {},
     "output_type": "execute_result"
    }
   ],
   "source": [
    "# continent_lookup = pd.read_csv('/content/drive/My Drive/VizFinalProj/continent_lookup.csv')\n",
    "continent_lookup = pd.read_csv('./continent_lookup.csv')\n",
    "\n",
    "continent_lookup.head()"
   ]
  },
  {
   "cell_type": "code",
   "execution_count": 13,
   "id": "Gs_XfyHQXlPR",
   "metadata": {
    "colab": {
     "base_uri": "https://localhost:8080/",
     "height": 206
    },
    "id": "Gs_XfyHQXlPR",
    "outputId": "906bd1eb-33d1-40c3-ccac-4dfbfd9f1b14"
   },
   "outputs": [
    {
     "data": {
      "text/html": [
       "<div>\n",
       "<style scoped>\n",
       "    .dataframe tbody tr th:only-of-type {\n",
       "        vertical-align: middle;\n",
       "    }\n",
       "\n",
       "    .dataframe tbody tr th {\n",
       "        vertical-align: top;\n",
       "    }\n",
       "\n",
       "    .dataframe thead th {\n",
       "        text-align: right;\n",
       "    }\n",
       "</style>\n",
       "<table border=\"1\" class=\"dataframe\">\n",
       "  <thead>\n",
       "    <tr style=\"text-align: right;\">\n",
       "      <th></th>\n",
       "      <th>Misc</th>\n",
       "    </tr>\n",
       "  </thead>\n",
       "  <tbody>\n",
       "    <tr>\n",
       "      <th>0</th>\n",
       "      <td>Global</td>\n",
       "    </tr>\n",
       "    <tr>\n",
       "      <th>1</th>\n",
       "      <td>International Transport</td>\n",
       "    </tr>\n",
       "    <tr>\n",
       "      <th>2</th>\n",
       "      <td>French Equatorial Africa</td>\n",
       "    </tr>\n",
       "    <tr>\n",
       "      <th>3</th>\n",
       "      <td>French West Africa</td>\n",
       "    </tr>\n",
       "    <tr>\n",
       "      <th>4</th>\n",
       "      <td>Baker Island</td>\n",
       "    </tr>\n",
       "  </tbody>\n",
       "</table>\n",
       "</div>"
      ],
      "text/plain": [
       "                       Misc\n",
       "0                    Global\n",
       "1   International Transport\n",
       "2  French Equatorial Africa\n",
       "3        French West Africa\n",
       "4              Baker Island"
      ]
     },
     "execution_count": 13,
     "metadata": {},
     "output_type": "execute_result"
    }
   ],
   "source": [
    "#misc_lookup = pd.read_csv('/content/drive/My Drive/VizFinalProj/misc_lookup_utf8.csv')\n",
    "misc_lookup = pd.read_csv('misc_lookup_utf8.csv')\n",
    "misc_lookup.head()"
   ]
  },
  {
   "cell_type": "code",
   "execution_count": 14,
   "id": "319d18cd",
   "metadata": {
    "colab": {
     "base_uri": "https://localhost:8080/"
    },
    "id": "319d18cd",
    "outputId": "7770b305-4261-4de6-ce3b-db50ea60e400"
   },
   "outputs": [
    {
     "data": {
      "text/plain": [
       "Index(['Country', 'ISO 3166-1 alpha-3', 'Year', 'Total', 'Coal', 'Oil', 'Gas',\n",
       "       'Cement', 'Flaring', 'Other', 'Per Capita'],\n",
       "      dtype='object')"
      ]
     },
     "execution_count": 14,
     "metadata": {},
     "output_type": "execute_result"
    }
   ],
   "source": [
    "emissions.columns"
   ]
  },
  {
   "cell_type": "code",
   "execution_count": 15,
   "id": "7a4aa090",
   "metadata": {
    "colab": {
     "base_uri": "https://localhost:8080/"
    },
    "id": "7a4aa090",
    "outputId": "c2f77ef7-b5b2-4f2c-dc66-a92a88001d82"
   },
   "outputs": [
    {
     "name": "stdout",
     "output_type": "stream",
     "text": [
      "DF shape: (63104, 11)\n",
      "DF number of countries: 232\n",
      "DF number of years: 272 from 1750 to 2021\n"
     ]
    }
   ],
   "source": [
    "print(\"DF shape:\",emissions.shape)\n",
    "print(\"DF number of countries:\", emissions['Country'].nunique())\n",
    "print(\"DF number of years:\", emissions['Year'].nunique(), \"from\", emissions['Year'].min(), \"to\", emissions['Year'].max())"
   ]
  },
  {
   "cell_type": "code",
   "execution_count": 16,
   "id": "f371ba23",
   "metadata": {
    "id": "f371ba23"
   },
   "outputs": [],
   "source": [
    "emissions = emissions.loc[emissions['Year'] >= 1950]"
   ]
  },
  {
   "cell_type": "code",
   "execution_count": 17,
   "id": "f0870ace",
   "metadata": {
    "colab": {
     "base_uri": "https://localhost:8080/"
    },
    "id": "f0870ace",
    "outputId": "afd254ac-1d3f-4e49-a875-4ff5e76e1caf"
   },
   "outputs": [
    {
     "data": {
      "text/plain": [
       "Country               False\n",
       "ISO 3166-1 alpha-3     True\n",
       "Year                  False\n",
       "Total                 False\n",
       "Coal                   True\n",
       "Oil                    True\n",
       "Gas                    True\n",
       "Cement                 True\n",
       "Flaring                True\n",
       "Other                  True\n",
       "Per Capita             True\n",
       "dtype: bool"
      ]
     },
     "execution_count": 17,
     "metadata": {},
     "output_type": "execute_result"
    }
   ],
   "source": [
    "emissions.isnull().any()"
   ]
  },
  {
   "cell_type": "code",
   "execution_count": 18,
   "id": "49a9f319",
   "metadata": {
    "colab": {
     "base_uri": "https://localhost:8080/"
    },
    "id": "49a9f319",
    "outputId": "f84094f3-74d5-41fa-8fd1-f589579900cd"
   },
   "outputs": [
    {
     "name": "stdout",
     "output_type": "stream",
     "text": [
      "DF shape: (16704, 11)\n",
      "DF number of countries: 232\n",
      "DF number of years: 72 from 1950 to 2021\n"
     ]
    }
   ],
   "source": [
    "print(\"DF shape:\",emissions.shape)\n",
    "print(\"DF number of countries:\", emissions['Country'].nunique())\n",
    "print(\"DF number of years:\", emissions['Year'].nunique(), \"from\", emissions['Year'].min(), \"to\", emissions['Year'].max())"
   ]
  },
  {
   "cell_type": "code",
   "execution_count": 19,
   "id": "QHkl4rLpE46N",
   "metadata": {
    "colab": {
     "base_uri": "https://localhost:8080/",
     "height": 206
    },
    "id": "QHkl4rLpE46N",
    "outputId": "6a59fbf6-2c22-435d-804d-9a3a09680db5"
   },
   "outputs": [
    {
     "data": {
      "text/html": [
       "<div>\n",
       "<style scoped>\n",
       "    .dataframe tbody tr th:only-of-type {\n",
       "        vertical-align: middle;\n",
       "    }\n",
       "\n",
       "    .dataframe tbody tr th {\n",
       "        vertical-align: top;\n",
       "    }\n",
       "\n",
       "    .dataframe thead th {\n",
       "        text-align: right;\n",
       "    }\n",
       "</style>\n",
       "<table border=\"1\" class=\"dataframe\">\n",
       "  <thead>\n",
       "    <tr style=\"text-align: right;\">\n",
       "      <th></th>\n",
       "      <th>Country</th>\n",
       "      <th>ISO 3166-1 alpha-3</th>\n",
       "      <th>Year</th>\n",
       "      <th>Total</th>\n",
       "      <th>Coal</th>\n",
       "      <th>Oil</th>\n",
       "      <th>Gas</th>\n",
       "      <th>Cement</th>\n",
       "      <th>Flaring</th>\n",
       "      <th>Other</th>\n",
       "      <th>Per Capita</th>\n",
       "    </tr>\n",
       "  </thead>\n",
       "  <tbody>\n",
       "    <tr>\n",
       "      <th>200</th>\n",
       "      <td>Afghanistan</td>\n",
       "      <td>AFG</td>\n",
       "      <td>1950</td>\n",
       "      <td>0.084272</td>\n",
       "      <td>0.021068</td>\n",
       "      <td>0.063204</td>\n",
       "      <td>0.0</td>\n",
       "      <td>0.0</td>\n",
       "      <td>0.0</td>\n",
       "      <td>NaN</td>\n",
       "      <td>0.011266</td>\n",
       "    </tr>\n",
       "    <tr>\n",
       "      <th>201</th>\n",
       "      <td>Afghanistan</td>\n",
       "      <td>AFG</td>\n",
       "      <td>1951</td>\n",
       "      <td>0.091600</td>\n",
       "      <td>0.025648</td>\n",
       "      <td>0.065952</td>\n",
       "      <td>0.0</td>\n",
       "      <td>0.0</td>\n",
       "      <td>0.0</td>\n",
       "      <td>NaN</td>\n",
       "      <td>0.012098</td>\n",
       "    </tr>\n",
       "    <tr>\n",
       "      <th>202</th>\n",
       "      <td>Afghanistan</td>\n",
       "      <td>AFG</td>\n",
       "      <td>1952</td>\n",
       "      <td>0.091600</td>\n",
       "      <td>0.031708</td>\n",
       "      <td>0.059892</td>\n",
       "      <td>0.0</td>\n",
       "      <td>0.0</td>\n",
       "      <td>0.0</td>\n",
       "      <td>NaN</td>\n",
       "      <td>0.011946</td>\n",
       "    </tr>\n",
       "    <tr>\n",
       "      <th>203</th>\n",
       "      <td>Afghanistan</td>\n",
       "      <td>AFG</td>\n",
       "      <td>1953</td>\n",
       "      <td>0.106256</td>\n",
       "      <td>0.037949</td>\n",
       "      <td>0.068307</td>\n",
       "      <td>0.0</td>\n",
       "      <td>0.0</td>\n",
       "      <td>0.0</td>\n",
       "      <td>NaN</td>\n",
       "      <td>0.013685</td>\n",
       "    </tr>\n",
       "    <tr>\n",
       "      <th>204</th>\n",
       "      <td>Afghanistan</td>\n",
       "      <td>AFG</td>\n",
       "      <td>1954</td>\n",
       "      <td>0.106256</td>\n",
       "      <td>0.042502</td>\n",
       "      <td>0.063754</td>\n",
       "      <td>0.0</td>\n",
       "      <td>0.0</td>\n",
       "      <td>0.0</td>\n",
       "      <td>NaN</td>\n",
       "      <td>0.013511</td>\n",
       "    </tr>\n",
       "  </tbody>\n",
       "</table>\n",
       "</div>"
      ],
      "text/plain": [
       "         Country ISO 3166-1 alpha-3  Year     Total      Coal       Oil  Gas  \\\n",
       "200  Afghanistan                AFG  1950  0.084272  0.021068  0.063204  0.0   \n",
       "201  Afghanistan                AFG  1951  0.091600  0.025648  0.065952  0.0   \n",
       "202  Afghanistan                AFG  1952  0.091600  0.031708  0.059892  0.0   \n",
       "203  Afghanistan                AFG  1953  0.106256  0.037949  0.068307  0.0   \n",
       "204  Afghanistan                AFG  1954  0.106256  0.042502  0.063754  0.0   \n",
       "\n",
       "     Cement  Flaring  Other  Per Capita  \n",
       "200     0.0      0.0    NaN    0.011266  \n",
       "201     0.0      0.0    NaN    0.012098  \n",
       "202     0.0      0.0    NaN    0.011946  \n",
       "203     0.0      0.0    NaN    0.013685  \n",
       "204     0.0      0.0    NaN    0.013511  "
      ]
     },
     "execution_count": 19,
     "metadata": {},
     "output_type": "execute_result"
    }
   ],
   "source": [
    "emissions.head()"
   ]
  },
  {
   "cell_type": "code",
   "execution_count": 20,
   "id": "662d73f6",
   "metadata": {
    "id": "662d73f6"
   },
   "outputs": [],
   "source": [
    "# Looking at Temperatures Dataset"
   ]
  },
  {
   "cell_type": "code",
   "execution_count": 21,
   "id": "4ccdd333",
   "metadata": {
    "id": "4ccdd333"
   },
   "outputs": [],
   "source": [
    "#temperatures = pd.read_csv('/content/drive/My Drive/VizFinalProj/GlobalLandTemperaturesByCountry.csv')\n",
    "temperatures = pd.read_csv('./Temperatures Datasets/GlobalLandTemperaturesByCountry.csv')"
   ]
  },
  {
   "cell_type": "code",
   "execution_count": 22,
   "id": "f913e2f5",
   "metadata": {
    "colab": {
     "base_uri": "https://localhost:8080/"
    },
    "id": "f913e2f5",
    "outputId": "c689fbf7-cdfd-4593-9c7d-838c3a8bc1fb"
   },
   "outputs": [
    {
     "data": {
      "text/plain": [
       "Index(['dt', 'AverageTemperature', 'AverageTemperatureUncertainty', 'Country'], dtype='object')"
      ]
     },
     "execution_count": 22,
     "metadata": {},
     "output_type": "execute_result"
    }
   ],
   "source": [
    "temperatures.columns"
   ]
  },
  {
   "cell_type": "code",
   "execution_count": 23,
   "id": "7c81ae8c",
   "metadata": {
    "colab": {
     "base_uri": "https://localhost:8080/",
     "height": 206
    },
    "id": "7c81ae8c",
    "outputId": "97550e05-597b-4687-9eaa-5608be70d632"
   },
   "outputs": [
    {
     "data": {
      "text/html": [
       "<div>\n",
       "<style scoped>\n",
       "    .dataframe tbody tr th:only-of-type {\n",
       "        vertical-align: middle;\n",
       "    }\n",
       "\n",
       "    .dataframe tbody tr th {\n",
       "        vertical-align: top;\n",
       "    }\n",
       "\n",
       "    .dataframe thead th {\n",
       "        text-align: right;\n",
       "    }\n",
       "</style>\n",
       "<table border=\"1\" class=\"dataframe\">\n",
       "  <thead>\n",
       "    <tr style=\"text-align: right;\">\n",
       "      <th></th>\n",
       "      <th>dt</th>\n",
       "      <th>AverageTemperature</th>\n",
       "      <th>AverageTemperatureUncertainty</th>\n",
       "      <th>Country</th>\n",
       "    </tr>\n",
       "  </thead>\n",
       "  <tbody>\n",
       "    <tr>\n",
       "      <th>0</th>\n",
       "      <td>1743-11-01</td>\n",
       "      <td>4.384</td>\n",
       "      <td>2.294</td>\n",
       "      <td>Åland</td>\n",
       "    </tr>\n",
       "    <tr>\n",
       "      <th>1</th>\n",
       "      <td>1743-12-01</td>\n",
       "      <td>NaN</td>\n",
       "      <td>NaN</td>\n",
       "      <td>Åland</td>\n",
       "    </tr>\n",
       "    <tr>\n",
       "      <th>2</th>\n",
       "      <td>1744-01-01</td>\n",
       "      <td>NaN</td>\n",
       "      <td>NaN</td>\n",
       "      <td>Åland</td>\n",
       "    </tr>\n",
       "    <tr>\n",
       "      <th>3</th>\n",
       "      <td>1744-02-01</td>\n",
       "      <td>NaN</td>\n",
       "      <td>NaN</td>\n",
       "      <td>Åland</td>\n",
       "    </tr>\n",
       "    <tr>\n",
       "      <th>4</th>\n",
       "      <td>1744-03-01</td>\n",
       "      <td>NaN</td>\n",
       "      <td>NaN</td>\n",
       "      <td>Åland</td>\n",
       "    </tr>\n",
       "  </tbody>\n",
       "</table>\n",
       "</div>"
      ],
      "text/plain": [
       "           dt  AverageTemperature  AverageTemperatureUncertainty Country\n",
       "0  1743-11-01               4.384                          2.294   Åland\n",
       "1  1743-12-01                 NaN                            NaN   Åland\n",
       "2  1744-01-01                 NaN                            NaN   Åland\n",
       "3  1744-02-01                 NaN                            NaN   Åland\n",
       "4  1744-03-01                 NaN                            NaN   Åland"
      ]
     },
     "execution_count": 23,
     "metadata": {},
     "output_type": "execute_result"
    }
   ],
   "source": [
    "temperatures.head()"
   ]
  },
  {
   "cell_type": "markdown",
   "id": "6d6d2e60",
   "metadata": {
    "id": "6d6d2e60"
   },
   "source": [
    "### Splitting Date-Time"
   ]
  },
  {
   "cell_type": "code",
   "execution_count": 24,
   "id": "e2ba0997",
   "metadata": {
    "id": "e2ba0997"
   },
   "outputs": [],
   "source": [
    "temperatures['dt']= pd.to_datetime(temperatures['dt'],format='%Y-%m-%d')"
   ]
  },
  {
   "cell_type": "code",
   "execution_count": 25,
   "id": "ab586da7",
   "metadata": {
    "colab": {
     "base_uri": "https://localhost:8080/"
    },
    "id": "ab586da7",
    "outputId": "81c38960-2674-4ad8-e128-3c4b94d16f71"
   },
   "outputs": [
    {
     "data": {
      "text/plain": [
       "dt                               datetime64[ns]\n",
       "AverageTemperature                      float64\n",
       "AverageTemperatureUncertainty           float64\n",
       "Country                                  object\n",
       "dtype: object"
      ]
     },
     "execution_count": 25,
     "metadata": {},
     "output_type": "execute_result"
    }
   ],
   "source": [
    "temperatures.dtypes"
   ]
  },
  {
   "cell_type": "code",
   "execution_count": 26,
   "id": "2f132495",
   "metadata": {
    "id": "2f132495"
   },
   "outputs": [],
   "source": [
    "temperatures['Year'] = temperatures['dt'].dt.year"
   ]
  },
  {
   "cell_type": "code",
   "execution_count": 27,
   "id": "cd559049",
   "metadata": {
    "colab": {
     "base_uri": "https://localhost:8080/"
    },
    "id": "cd559049",
    "outputId": "5c9c0489-9ccb-4b04-8428-f46b73c73a90"
   },
   "outputs": [
    {
     "name": "stdout",
     "output_type": "stream",
     "text": [
      "DF shape: (577462, 5)\n",
      "DF number of countries: 243\n",
      "DF number of years: 271 from 1743 to 2013\n"
     ]
    }
   ],
   "source": [
    "print(\"DF shape:\",temperatures.shape)\n",
    "print(\"DF number of countries:\", temperatures['Country'].nunique())\n",
    "print(\"DF number of years:\", temperatures['Year'].nunique(), \"from\", temperatures['Year'].min(), \"to\", temperatures['Year'].max())"
   ]
  },
  {
   "cell_type": "code",
   "execution_count": 28,
   "id": "0b267810",
   "metadata": {
    "colab": {
     "base_uri": "https://localhost:8080/",
     "height": 206
    },
    "id": "0b267810",
    "outputId": "47c48308-f5eb-4b76-bffa-029670340a84"
   },
   "outputs": [
    {
     "data": {
      "text/html": [
       "<div>\n",
       "<style scoped>\n",
       "    .dataframe tbody tr th:only-of-type {\n",
       "        vertical-align: middle;\n",
       "    }\n",
       "\n",
       "    .dataframe tbody tr th {\n",
       "        vertical-align: top;\n",
       "    }\n",
       "\n",
       "    .dataframe thead th {\n",
       "        text-align: right;\n",
       "    }\n",
       "</style>\n",
       "<table border=\"1\" class=\"dataframe\">\n",
       "  <thead>\n",
       "    <tr style=\"text-align: right;\">\n",
       "      <th></th>\n",
       "      <th>dt</th>\n",
       "      <th>AverageTemperature</th>\n",
       "      <th>AverageTemperatureUncertainty</th>\n",
       "      <th>Country</th>\n",
       "      <th>Year</th>\n",
       "    </tr>\n",
       "  </thead>\n",
       "  <tbody>\n",
       "    <tr>\n",
       "      <th>0</th>\n",
       "      <td>1743-11-01</td>\n",
       "      <td>4.384</td>\n",
       "      <td>2.294</td>\n",
       "      <td>Åland</td>\n",
       "      <td>1743</td>\n",
       "    </tr>\n",
       "    <tr>\n",
       "      <th>1</th>\n",
       "      <td>1743-12-01</td>\n",
       "      <td>NaN</td>\n",
       "      <td>NaN</td>\n",
       "      <td>Åland</td>\n",
       "      <td>1743</td>\n",
       "    </tr>\n",
       "    <tr>\n",
       "      <th>2</th>\n",
       "      <td>1744-01-01</td>\n",
       "      <td>NaN</td>\n",
       "      <td>NaN</td>\n",
       "      <td>Åland</td>\n",
       "      <td>1744</td>\n",
       "    </tr>\n",
       "    <tr>\n",
       "      <th>3</th>\n",
       "      <td>1744-02-01</td>\n",
       "      <td>NaN</td>\n",
       "      <td>NaN</td>\n",
       "      <td>Åland</td>\n",
       "      <td>1744</td>\n",
       "    </tr>\n",
       "    <tr>\n",
       "      <th>4</th>\n",
       "      <td>1744-03-01</td>\n",
       "      <td>NaN</td>\n",
       "      <td>NaN</td>\n",
       "      <td>Åland</td>\n",
       "      <td>1744</td>\n",
       "    </tr>\n",
       "  </tbody>\n",
       "</table>\n",
       "</div>"
      ],
      "text/plain": [
       "          dt  AverageTemperature  AverageTemperatureUncertainty Country  Year\n",
       "0 1743-11-01               4.384                          2.294   Åland  1743\n",
       "1 1743-12-01                 NaN                            NaN   Åland  1743\n",
       "2 1744-01-01                 NaN                            NaN   Åland  1744\n",
       "3 1744-02-01                 NaN                            NaN   Åland  1744\n",
       "4 1744-03-01                 NaN                            NaN   Åland  1744"
      ]
     },
     "execution_count": 28,
     "metadata": {},
     "output_type": "execute_result"
    }
   ],
   "source": [
    "temperatures.head()"
   ]
  },
  {
   "cell_type": "code",
   "execution_count": 29,
   "id": "5da80c3e",
   "metadata": {
    "colab": {
     "base_uri": "https://localhost:8080/"
    },
    "id": "5da80c3e",
    "outputId": "198bbf31-22c6-43a8-9cb3-dd492a32f946"
   },
   "outputs": [],
   "source": [
    "tempsbyYear = temperatures.groupby(['Year', 'Country']).mean().reset_index()"
   ]
  },
  {
   "cell_type": "code",
   "execution_count": 30,
   "id": "ad2907fa",
   "metadata": {
    "id": "ad2907fa"
   },
   "outputs": [],
   "source": [
    "tempsbyYear = tempsbyYear.loc[tempsbyYear['Year']>= 1950]"
   ]
  },
  {
   "cell_type": "code",
   "execution_count": 31,
   "id": "966a3146",
   "metadata": {
    "colab": {
     "base_uri": "https://localhost:8080/"
    },
    "id": "966a3146",
    "outputId": "1210fed8-d507-4550-d167-556ba0915d5a"
   },
   "outputs": [
    {
     "data": {
      "text/plain": [
       "Year                             False\n",
       "Country                          False\n",
       "AverageTemperature                True\n",
       "AverageTemperatureUncertainty     True\n",
       "dtype: bool"
      ]
     },
     "execution_count": 31,
     "metadata": {},
     "output_type": "execute_result"
    }
   ],
   "source": [
    "tempsbyYear.head()\n",
    "tempsbyYear.isnull().any()"
   ]
  },
  {
   "cell_type": "code",
   "execution_count": 32,
   "id": "ace7e36d",
   "metadata": {
    "colab": {
     "base_uri": "https://localhost:8080/",
     "height": 424
    },
    "id": "ace7e36d",
    "outputId": "e7d19cfb-31df-4531-c0f8-2e57eb5be3b3"
   },
   "outputs": [
    {
     "data": {
      "text/html": [
       "<div>\n",
       "<style scoped>\n",
       "    .dataframe tbody tr th:only-of-type {\n",
       "        vertical-align: middle;\n",
       "    }\n",
       "\n",
       "    .dataframe tbody tr th {\n",
       "        vertical-align: top;\n",
       "    }\n",
       "\n",
       "    .dataframe thead th {\n",
       "        text-align: right;\n",
       "    }\n",
       "</style>\n",
       "<table border=\"1\" class=\"dataframe\">\n",
       "  <thead>\n",
       "    <tr style=\"text-align: right;\">\n",
       "      <th></th>\n",
       "      <th>Year</th>\n",
       "      <th>Country</th>\n",
       "      <th>AverageTemperature</th>\n",
       "      <th>AverageTemperatureUncertainty</th>\n",
       "    </tr>\n",
       "  </thead>\n",
       "  <tbody>\n",
       "    <tr>\n",
       "      <th>32699</th>\n",
       "      <td>1950</td>\n",
       "      <td>Antarctica</td>\n",
       "      <td>NaN</td>\n",
       "      <td>2.215200</td>\n",
       "    </tr>\n",
       "    <tr>\n",
       "      <th>32942</th>\n",
       "      <td>1951</td>\n",
       "      <td>Antarctica</td>\n",
       "      <td>NaN</td>\n",
       "      <td>2.153333</td>\n",
       "    </tr>\n",
       "    <tr>\n",
       "      <th>33185</th>\n",
       "      <td>1952</td>\n",
       "      <td>Antarctica</td>\n",
       "      <td>NaN</td>\n",
       "      <td>2.105000</td>\n",
       "    </tr>\n",
       "    <tr>\n",
       "      <th>33428</th>\n",
       "      <td>1953</td>\n",
       "      <td>Antarctica</td>\n",
       "      <td>NaN</td>\n",
       "      <td>NaN</td>\n",
       "    </tr>\n",
       "    <tr>\n",
       "      <th>33671</th>\n",
       "      <td>1954</td>\n",
       "      <td>Antarctica</td>\n",
       "      <td>NaN</td>\n",
       "      <td>2.218167</td>\n",
       "    </tr>\n",
       "    <tr>\n",
       "      <th>...</th>\n",
       "      <td>...</td>\n",
       "      <td>...</td>\n",
       "      <td>...</td>\n",
       "      <td>...</td>\n",
       "    </tr>\n",
       "    <tr>\n",
       "      <th>47036</th>\n",
       "      <td>2009</td>\n",
       "      <td>Antarctica</td>\n",
       "      <td>NaN</td>\n",
       "      <td>0.606500</td>\n",
       "    </tr>\n",
       "    <tr>\n",
       "      <th>47279</th>\n",
       "      <td>2010</td>\n",
       "      <td>Antarctica</td>\n",
       "      <td>NaN</td>\n",
       "      <td>0.590083</td>\n",
       "    </tr>\n",
       "    <tr>\n",
       "      <th>47522</th>\n",
       "      <td>2011</td>\n",
       "      <td>Antarctica</td>\n",
       "      <td>NaN</td>\n",
       "      <td>0.625833</td>\n",
       "    </tr>\n",
       "    <tr>\n",
       "      <th>47765</th>\n",
       "      <td>2012</td>\n",
       "      <td>Antarctica</td>\n",
       "      <td>NaN</td>\n",
       "      <td>0.709417</td>\n",
       "    </tr>\n",
       "    <tr>\n",
       "      <th>48008</th>\n",
       "      <td>2013</td>\n",
       "      <td>Antarctica</td>\n",
       "      <td>NaN</td>\n",
       "      <td>0.615250</td>\n",
       "    </tr>\n",
       "  </tbody>\n",
       "</table>\n",
       "<p>64 rows × 4 columns</p>\n",
       "</div>"
      ],
      "text/plain": [
       "       Year     Country  AverageTemperature  AverageTemperatureUncertainty\n",
       "32699  1950  Antarctica                 NaN                       2.215200\n",
       "32942  1951  Antarctica                 NaN                       2.153333\n",
       "33185  1952  Antarctica                 NaN                       2.105000\n",
       "33428  1953  Antarctica                 NaN                            NaN\n",
       "33671  1954  Antarctica                 NaN                       2.218167\n",
       "...     ...         ...                 ...                            ...\n",
       "47036  2009  Antarctica                 NaN                       0.606500\n",
       "47279  2010  Antarctica                 NaN                       0.590083\n",
       "47522  2011  Antarctica                 NaN                       0.625833\n",
       "47765  2012  Antarctica                 NaN                       0.709417\n",
       "48008  2013  Antarctica                 NaN                       0.615250\n",
       "\n",
       "[64 rows x 4 columns]"
      ]
     },
     "execution_count": 32,
     "metadata": {},
     "output_type": "execute_result"
    }
   ],
   "source": [
    "tempsbyYear.loc[tempsbyYear['AverageTemperature'].isnull()]"
   ]
  },
  {
   "cell_type": "code",
   "execution_count": 33,
   "id": "14d3a72b",
   "metadata": {
    "id": "14d3a72b"
   },
   "outputs": [],
   "source": [
    "#tempsbyYear = tempsbyYear.loc[~(tempsbyYear['Country']=='Antarctica')]"
   ]
  },
  {
   "cell_type": "code",
   "execution_count": 34,
   "id": "f2Cc-E4mT4gQ",
   "metadata": {
    "id": "f2Cc-E4mT4gQ"
   },
   "outputs": [],
   "source": [
    "continents = continent_lookup['Continent'].tolist()\n",
    "misc = misc_lookup['Misc'].tolist()"
   ]
  },
  {
   "cell_type": "code",
   "execution_count": 35,
   "id": "I33yPmeIagUI",
   "metadata": {
    "id": "I33yPmeIagUI"
   },
   "outputs": [],
   "source": [
    "tempsbyYear = tempsbyYear[~tempsbyYear['Country'].isin(continents)]\n",
    "tempsbyYear = tempsbyYear[~tempsbyYear['Country'].isin(misc)]\n",
    "tempsbyYear = tempsbyYear[~tempsbyYear['Country'].isin(['Denmark (Europe)', 'France (Europe)', 'Netherlands (Europe)', 'United Kingdom (Europe)', 'American Samoa'])]"
   ]
  },
  {
   "cell_type": "code",
   "execution_count": 36,
   "id": "q9LMTOH9oTw7",
   "metadata": {
    "id": "q9LMTOH9oTw7"
   },
   "outputs": [],
   "source": [
    "emissions = emissions[~emissions['Country'].isin(continents)]\n",
    "emissions = emissions[~emissions['Country'].isin(misc)]\n",
    "emissions = emissions[~emissions['Country'].isin(['Kuwaiti Oil Fires', 'Panama Canal Zone', 'South Sudan'])]"
   ]
  },
  {
   "cell_type": "code",
   "execution_count": 37,
   "id": "94Itgb5KdmoB",
   "metadata": {
    "id": "94Itgb5KdmoB"
   },
   "outputs": [],
   "source": [
    "tempsbyYear_name_dict = name_lookup['tempsbyYear'].to_dict()\n",
    "tempsbyYear_name_dict = dict([(value, key) for key, value in tempsbyYear_name_dict.items()])"
   ]
  },
  {
   "cell_type": "code",
   "execution_count": 38,
   "id": "G11UHU4Fo6uJ",
   "metadata": {
    "id": "G11UHU4Fo6uJ"
   },
   "outputs": [],
   "source": [
    "emissions_name_dict = name_lookup['emissions'].to_dict()\n",
    "emissions_name_dict = dict([(value, key) for key, value in emissions_name_dict.items()])"
   ]
  },
  {
   "cell_type": "code",
   "execution_count": 39,
   "id": "DlJaZCjdguL0",
   "metadata": {
    "colab": {
     "base_uri": "https://localhost:8080/",
     "height": 424
    },
    "id": "DlJaZCjdguL0",
    "outputId": "511e5ba0-3679-49ff-fafd-9d0ad9f75fda"
   },
   "outputs": [
    {
     "data": {
      "text/html": [
       "<div>\n",
       "<style scoped>\n",
       "    .dataframe tbody tr th:only-of-type {\n",
       "        vertical-align: middle;\n",
       "    }\n",
       "\n",
       "    .dataframe tbody tr th {\n",
       "        vertical-align: top;\n",
       "    }\n",
       "\n",
       "    .dataframe thead th {\n",
       "        text-align: right;\n",
       "    }\n",
       "</style>\n",
       "<table border=\"1\" class=\"dataframe\">\n",
       "  <thead>\n",
       "    <tr style=\"text-align: right;\">\n",
       "      <th></th>\n",
       "      <th>Year</th>\n",
       "      <th>Country</th>\n",
       "      <th>AverageTemperature</th>\n",
       "      <th>AverageTemperatureUncertainty</th>\n",
       "    </tr>\n",
       "  </thead>\n",
       "  <tbody>\n",
       "    <tr>\n",
       "      <th>32879</th>\n",
       "      <td>1950</td>\n",
       "      <td>Samoa</td>\n",
       "      <td>26.274583</td>\n",
       "      <td>0.409833</td>\n",
       "    </tr>\n",
       "    <tr>\n",
       "      <th>33122</th>\n",
       "      <td>1951</td>\n",
       "      <td>Samoa</td>\n",
       "      <td>26.434583</td>\n",
       "      <td>0.390750</td>\n",
       "    </tr>\n",
       "    <tr>\n",
       "      <th>33365</th>\n",
       "      <td>1952</td>\n",
       "      <td>Samoa</td>\n",
       "      <td>26.768833</td>\n",
       "      <td>0.265250</td>\n",
       "    </tr>\n",
       "    <tr>\n",
       "      <th>33608</th>\n",
       "      <td>1953</td>\n",
       "      <td>Samoa</td>\n",
       "      <td>26.670583</td>\n",
       "      <td>0.323500</td>\n",
       "    </tr>\n",
       "    <tr>\n",
       "      <th>33851</th>\n",
       "      <td>1954</td>\n",
       "      <td>Samoa</td>\n",
       "      <td>26.562000</td>\n",
       "      <td>0.315500</td>\n",
       "    </tr>\n",
       "    <tr>\n",
       "      <th>...</th>\n",
       "      <td>...</td>\n",
       "      <td>...</td>\n",
       "      <td>...</td>\n",
       "      <td>...</td>\n",
       "    </tr>\n",
       "    <tr>\n",
       "      <th>47216</th>\n",
       "      <td>2009</td>\n",
       "      <td>Samoa</td>\n",
       "      <td>26.728333</td>\n",
       "      <td>0.394000</td>\n",
       "    </tr>\n",
       "    <tr>\n",
       "      <th>47459</th>\n",
       "      <td>2010</td>\n",
       "      <td>Samoa</td>\n",
       "      <td>27.161667</td>\n",
       "      <td>0.357250</td>\n",
       "    </tr>\n",
       "    <tr>\n",
       "      <th>47702</th>\n",
       "      <td>2011</td>\n",
       "      <td>Samoa</td>\n",
       "      <td>26.715583</td>\n",
       "      <td>0.413833</td>\n",
       "    </tr>\n",
       "    <tr>\n",
       "      <th>47945</th>\n",
       "      <td>2012</td>\n",
       "      <td>Samoa</td>\n",
       "      <td>26.926667</td>\n",
       "      <td>0.482083</td>\n",
       "    </tr>\n",
       "    <tr>\n",
       "      <th>48188</th>\n",
       "      <td>2013</td>\n",
       "      <td>Samoa</td>\n",
       "      <td>27.176500</td>\n",
       "      <td>0.431875</td>\n",
       "    </tr>\n",
       "  </tbody>\n",
       "</table>\n",
       "<p>64 rows × 4 columns</p>\n",
       "</div>"
      ],
      "text/plain": [
       "       Year Country  AverageTemperature  AverageTemperatureUncertainty\n",
       "32879  1950   Samoa           26.274583                       0.409833\n",
       "33122  1951   Samoa           26.434583                       0.390750\n",
       "33365  1952   Samoa           26.768833                       0.265250\n",
       "33608  1953   Samoa           26.670583                       0.323500\n",
       "33851  1954   Samoa           26.562000                       0.315500\n",
       "...     ...     ...                 ...                            ...\n",
       "47216  2009   Samoa           26.728333                       0.394000\n",
       "47459  2010   Samoa           27.161667                       0.357250\n",
       "47702  2011   Samoa           26.715583                       0.413833\n",
       "47945  2012   Samoa           26.926667                       0.482083\n",
       "48188  2013   Samoa           27.176500                       0.431875\n",
       "\n",
       "[64 rows x 4 columns]"
      ]
     },
     "execution_count": 39,
     "metadata": {},
     "output_type": "execute_result"
    }
   ],
   "source": [
    "tempsbyYear['Country'] = tempsbyYear['Country'].replace(tempsbyYear_name_dict)\n",
    "tempsbyYear[tempsbyYear['Country'] == 'Samoa']"
   ]
  },
  {
   "cell_type": "code",
   "execution_count": 40,
   "id": "qxIQy8TTp5PK",
   "metadata": {
    "colab": {
     "base_uri": "https://localhost:8080/",
     "height": 424
    },
    "id": "qxIQy8TTp5PK",
    "outputId": "e599a5d9-5722-4b52-b3ee-2b1adafc0b2b"
   },
   "outputs": [
    {
     "data": {
      "text/html": [
       "<div>\n",
       "<style scoped>\n",
       "    .dataframe tbody tr th:only-of-type {\n",
       "        vertical-align: middle;\n",
       "    }\n",
       "\n",
       "    .dataframe tbody tr th {\n",
       "        vertical-align: top;\n",
       "    }\n",
       "\n",
       "    .dataframe thead th {\n",
       "        text-align: right;\n",
       "    }\n",
       "</style>\n",
       "<table border=\"1\" class=\"dataframe\">\n",
       "  <thead>\n",
       "    <tr style=\"text-align: right;\">\n",
       "      <th></th>\n",
       "      <th>Country</th>\n",
       "      <th>ISO 3166-1 alpha-3</th>\n",
       "      <th>Year</th>\n",
       "      <th>Total</th>\n",
       "      <th>Coal</th>\n",
       "      <th>Oil</th>\n",
       "      <th>Gas</th>\n",
       "      <th>Cement</th>\n",
       "      <th>Flaring</th>\n",
       "      <th>Other</th>\n",
       "      <th>Per Capita</th>\n",
       "    </tr>\n",
       "  </thead>\n",
       "  <tbody>\n",
       "    <tr>\n",
       "      <th>2104</th>\n",
       "      <td>Antigua And Barbuda</td>\n",
       "      <td>ATG</td>\n",
       "      <td>1950</td>\n",
       "      <td>0.000000</td>\n",
       "      <td>NaN</td>\n",
       "      <td>NaN</td>\n",
       "      <td>NaN</td>\n",
       "      <td>NaN</td>\n",
       "      <td>NaN</td>\n",
       "      <td>NaN</td>\n",
       "      <td>0.000000</td>\n",
       "    </tr>\n",
       "    <tr>\n",
       "      <th>2105</th>\n",
       "      <td>Antigua And Barbuda</td>\n",
       "      <td>ATG</td>\n",
       "      <td>1951</td>\n",
       "      <td>0.000000</td>\n",
       "      <td>NaN</td>\n",
       "      <td>NaN</td>\n",
       "      <td>NaN</td>\n",
       "      <td>NaN</td>\n",
       "      <td>NaN</td>\n",
       "      <td>NaN</td>\n",
       "      <td>0.000000</td>\n",
       "    </tr>\n",
       "    <tr>\n",
       "      <th>2106</th>\n",
       "      <td>Antigua And Barbuda</td>\n",
       "      <td>ATG</td>\n",
       "      <td>1952</td>\n",
       "      <td>0.000000</td>\n",
       "      <td>NaN</td>\n",
       "      <td>NaN</td>\n",
       "      <td>NaN</td>\n",
       "      <td>NaN</td>\n",
       "      <td>NaN</td>\n",
       "      <td>NaN</td>\n",
       "      <td>0.000000</td>\n",
       "    </tr>\n",
       "    <tr>\n",
       "      <th>2107</th>\n",
       "      <td>Antigua And Barbuda</td>\n",
       "      <td>ATG</td>\n",
       "      <td>1953</td>\n",
       "      <td>0.000000</td>\n",
       "      <td>NaN</td>\n",
       "      <td>NaN</td>\n",
       "      <td>NaN</td>\n",
       "      <td>NaN</td>\n",
       "      <td>NaN</td>\n",
       "      <td>NaN</td>\n",
       "      <td>0.000000</td>\n",
       "    </tr>\n",
       "    <tr>\n",
       "      <th>2108</th>\n",
       "      <td>Antigua And Barbuda</td>\n",
       "      <td>ATG</td>\n",
       "      <td>1954</td>\n",
       "      <td>0.000000</td>\n",
       "      <td>NaN</td>\n",
       "      <td>NaN</td>\n",
       "      <td>NaN</td>\n",
       "      <td>NaN</td>\n",
       "      <td>NaN</td>\n",
       "      <td>NaN</td>\n",
       "      <td>0.000000</td>\n",
       "    </tr>\n",
       "    <tr>\n",
       "      <th>...</th>\n",
       "      <td>...</td>\n",
       "      <td>...</td>\n",
       "      <td>...</td>\n",
       "      <td>...</td>\n",
       "      <td>...</td>\n",
       "      <td>...</td>\n",
       "      <td>...</td>\n",
       "      <td>...</td>\n",
       "      <td>...</td>\n",
       "      <td>...</td>\n",
       "      <td>...</td>\n",
       "    </tr>\n",
       "    <tr>\n",
       "      <th>2171</th>\n",
       "      <td>Antigua And Barbuda</td>\n",
       "      <td>ATG</td>\n",
       "      <td>2017</td>\n",
       "      <td>0.490976</td>\n",
       "      <td>0.0</td>\n",
       "      <td>0.490976</td>\n",
       "      <td>0.0</td>\n",
       "      <td>0.0</td>\n",
       "      <td>0.0</td>\n",
       "      <td>NaN</td>\n",
       "      <td>5.388294</td>\n",
       "    </tr>\n",
       "    <tr>\n",
       "      <th>2172</th>\n",
       "      <td>Antigua And Barbuda</td>\n",
       "      <td>ATG</td>\n",
       "      <td>2018</td>\n",
       "      <td>0.498304</td>\n",
       "      <td>0.0</td>\n",
       "      <td>0.498304</td>\n",
       "      <td>0.0</td>\n",
       "      <td>0.0</td>\n",
       "      <td>0.0</td>\n",
       "      <td>NaN</td>\n",
       "      <td>5.438456</td>\n",
       "    </tr>\n",
       "    <tr>\n",
       "      <th>2173</th>\n",
       "      <td>Antigua And Barbuda</td>\n",
       "      <td>ATG</td>\n",
       "      <td>2019</td>\n",
       "      <td>0.498304</td>\n",
       "      <td>0.0</td>\n",
       "      <td>0.498304</td>\n",
       "      <td>0.0</td>\n",
       "      <td>0.0</td>\n",
       "      <td>0.0</td>\n",
       "      <td>NaN</td>\n",
       "      <td>5.409468</td>\n",
       "    </tr>\n",
       "    <tr>\n",
       "      <th>2174</th>\n",
       "      <td>Antigua And Barbuda</td>\n",
       "      <td>ATG</td>\n",
       "      <td>2020</td>\n",
       "      <td>0.425453</td>\n",
       "      <td>0.0</td>\n",
       "      <td>0.425453</td>\n",
       "      <td>0.0</td>\n",
       "      <td>0.0</td>\n",
       "      <td>0.0</td>\n",
       "      <td>NaN</td>\n",
       "      <td>4.591351</td>\n",
       "    </tr>\n",
       "    <tr>\n",
       "      <th>2175</th>\n",
       "      <td>Antigua And Barbuda</td>\n",
       "      <td>ATG</td>\n",
       "      <td>2021</td>\n",
       "      <td>0.468695</td>\n",
       "      <td>0.0</td>\n",
       "      <td>0.468695</td>\n",
       "      <td>0.0</td>\n",
       "      <td>0.0</td>\n",
       "      <td>0.0</td>\n",
       "      <td>NaN</td>\n",
       "      <td>5.027895</td>\n",
       "    </tr>\n",
       "  </tbody>\n",
       "</table>\n",
       "<p>72 rows × 11 columns</p>\n",
       "</div>"
      ],
      "text/plain": [
       "                  Country ISO 3166-1 alpha-3  Year     Total  Coal       Oil  \\\n",
       "2104  Antigua And Barbuda                ATG  1950  0.000000   NaN       NaN   \n",
       "2105  Antigua And Barbuda                ATG  1951  0.000000   NaN       NaN   \n",
       "2106  Antigua And Barbuda                ATG  1952  0.000000   NaN       NaN   \n",
       "2107  Antigua And Barbuda                ATG  1953  0.000000   NaN       NaN   \n",
       "2108  Antigua And Barbuda                ATG  1954  0.000000   NaN       NaN   \n",
       "...                   ...                ...   ...       ...   ...       ...   \n",
       "2171  Antigua And Barbuda                ATG  2017  0.490976   0.0  0.490976   \n",
       "2172  Antigua And Barbuda                ATG  2018  0.498304   0.0  0.498304   \n",
       "2173  Antigua And Barbuda                ATG  2019  0.498304   0.0  0.498304   \n",
       "2174  Antigua And Barbuda                ATG  2020  0.425453   0.0  0.425453   \n",
       "2175  Antigua And Barbuda                ATG  2021  0.468695   0.0  0.468695   \n",
       "\n",
       "      Gas  Cement  Flaring  Other  Per Capita  \n",
       "2104  NaN     NaN      NaN    NaN    0.000000  \n",
       "2105  NaN     NaN      NaN    NaN    0.000000  \n",
       "2106  NaN     NaN      NaN    NaN    0.000000  \n",
       "2107  NaN     NaN      NaN    NaN    0.000000  \n",
       "2108  NaN     NaN      NaN    NaN    0.000000  \n",
       "...   ...     ...      ...    ...         ...  \n",
       "2171  0.0     0.0      0.0    NaN    5.388294  \n",
       "2172  0.0     0.0      0.0    NaN    5.438456  \n",
       "2173  0.0     0.0      0.0    NaN    5.409468  \n",
       "2174  0.0     0.0      0.0    NaN    4.591351  \n",
       "2175  0.0     0.0      0.0    NaN    5.027895  \n",
       "\n",
       "[72 rows x 11 columns]"
      ]
     },
     "execution_count": 40,
     "metadata": {},
     "output_type": "execute_result"
    }
   ],
   "source": [
    "emissions['Country'] = emissions['Country'].replace(emissions_name_dict)\n",
    "emissions[emissions['Country'] == 'Antigua And Barbuda']"
   ]
  },
  {
   "cell_type": "code",
   "execution_count": 41,
   "id": "G0BACp-adc2Z",
   "metadata": {
    "id": "G0BACp-adc2Z"
   },
   "outputs": [],
   "source": [
    "#tempsbyYear['Country'].replace()"
   ]
  },
  {
   "cell_type": "code",
   "execution_count": 42,
   "id": "vimzAEEebwTg",
   "metadata": {
    "colab": {
     "base_uri": "https://localhost:8080/",
     "height": 206
    },
    "id": "vimzAEEebwTg",
    "outputId": "0e6c04bc-1020-4100-81db-2c1d48d50b48"
   },
   "outputs": [
    {
     "data": {
      "text/html": [
       "<div>\n",
       "<style scoped>\n",
       "    .dataframe tbody tr th:only-of-type {\n",
       "        vertical-align: middle;\n",
       "    }\n",
       "\n",
       "    .dataframe tbody tr th {\n",
       "        vertical-align: top;\n",
       "    }\n",
       "\n",
       "    .dataframe thead th {\n",
       "        text-align: right;\n",
       "    }\n",
       "</style>\n",
       "<table border=\"1\" class=\"dataframe\">\n",
       "  <thead>\n",
       "    <tr style=\"text-align: right;\">\n",
       "      <th></th>\n",
       "      <th>Year</th>\n",
       "      <th>Country</th>\n",
       "      <th>AverageTemperature</th>\n",
       "      <th>AverageTemperatureUncertainty</th>\n",
       "    </tr>\n",
       "  </thead>\n",
       "  <tbody>\n",
       "    <tr>\n",
       "      <th>32691</th>\n",
       "      <td>1950</td>\n",
       "      <td>Afghanistan</td>\n",
       "      <td>13.043500</td>\n",
       "      <td>0.378250</td>\n",
       "    </tr>\n",
       "    <tr>\n",
       "      <th>32693</th>\n",
       "      <td>1950</td>\n",
       "      <td>Albania</td>\n",
       "      <td>13.812833</td>\n",
       "      <td>0.453583</td>\n",
       "    </tr>\n",
       "    <tr>\n",
       "      <th>32694</th>\n",
       "      <td>1950</td>\n",
       "      <td>Algeria</td>\n",
       "      <td>22.781833</td>\n",
       "      <td>0.414333</td>\n",
       "    </tr>\n",
       "    <tr>\n",
       "      <th>32696</th>\n",
       "      <td>1950</td>\n",
       "      <td>Andorra</td>\n",
       "      <td>11.812000</td>\n",
       "      <td>0.339417</td>\n",
       "    </tr>\n",
       "    <tr>\n",
       "      <th>32697</th>\n",
       "      <td>1950</td>\n",
       "      <td>Angola</td>\n",
       "      <td>21.571833</td>\n",
       "      <td>0.496500</td>\n",
       "    </tr>\n",
       "  </tbody>\n",
       "</table>\n",
       "</div>"
      ],
      "text/plain": [
       "       Year      Country  AverageTemperature  AverageTemperatureUncertainty\n",
       "32691  1950  Afghanistan           13.043500                       0.378250\n",
       "32693  1950      Albania           13.812833                       0.453583\n",
       "32694  1950      Algeria           22.781833                       0.414333\n",
       "32696  1950      Andorra           11.812000                       0.339417\n",
       "32697  1950       Angola           21.571833                       0.496500"
      ]
     },
     "execution_count": 42,
     "metadata": {},
     "output_type": "execute_result"
    }
   ],
   "source": [
    "tempsbyYear.head()"
   ]
  },
  {
   "cell_type": "code",
   "execution_count": 43,
   "id": "lhN1LuGZsk47",
   "metadata": {
    "colab": {
     "base_uri": "https://localhost:8080/",
     "height": 206
    },
    "id": "lhN1LuGZsk47",
    "outputId": "329331fa-2e29-4173-9ff2-121a663ba8b4"
   },
   "outputs": [
    {
     "data": {
      "text/html": [
       "<div>\n",
       "<style scoped>\n",
       "    .dataframe tbody tr th:only-of-type {\n",
       "        vertical-align: middle;\n",
       "    }\n",
       "\n",
       "    .dataframe tbody tr th {\n",
       "        vertical-align: top;\n",
       "    }\n",
       "\n",
       "    .dataframe thead th {\n",
       "        text-align: right;\n",
       "    }\n",
       "</style>\n",
       "<table border=\"1\" class=\"dataframe\">\n",
       "  <thead>\n",
       "    <tr style=\"text-align: right;\">\n",
       "      <th></th>\n",
       "      <th>Country</th>\n",
       "      <th>ISO 3166-1 alpha-3</th>\n",
       "      <th>Year</th>\n",
       "      <th>Total</th>\n",
       "      <th>Coal</th>\n",
       "      <th>Oil</th>\n",
       "      <th>Gas</th>\n",
       "      <th>Cement</th>\n",
       "      <th>Flaring</th>\n",
       "      <th>Other</th>\n",
       "      <th>Per Capita</th>\n",
       "    </tr>\n",
       "  </thead>\n",
       "  <tbody>\n",
       "    <tr>\n",
       "      <th>200</th>\n",
       "      <td>Afghanistan</td>\n",
       "      <td>AFG</td>\n",
       "      <td>1950</td>\n",
       "      <td>0.084272</td>\n",
       "      <td>0.021068</td>\n",
       "      <td>0.063204</td>\n",
       "      <td>0.0</td>\n",
       "      <td>0.0</td>\n",
       "      <td>0.0</td>\n",
       "      <td>NaN</td>\n",
       "      <td>0.011266</td>\n",
       "    </tr>\n",
       "    <tr>\n",
       "      <th>201</th>\n",
       "      <td>Afghanistan</td>\n",
       "      <td>AFG</td>\n",
       "      <td>1951</td>\n",
       "      <td>0.091600</td>\n",
       "      <td>0.025648</td>\n",
       "      <td>0.065952</td>\n",
       "      <td>0.0</td>\n",
       "      <td>0.0</td>\n",
       "      <td>0.0</td>\n",
       "      <td>NaN</td>\n",
       "      <td>0.012098</td>\n",
       "    </tr>\n",
       "    <tr>\n",
       "      <th>202</th>\n",
       "      <td>Afghanistan</td>\n",
       "      <td>AFG</td>\n",
       "      <td>1952</td>\n",
       "      <td>0.091600</td>\n",
       "      <td>0.031708</td>\n",
       "      <td>0.059892</td>\n",
       "      <td>0.0</td>\n",
       "      <td>0.0</td>\n",
       "      <td>0.0</td>\n",
       "      <td>NaN</td>\n",
       "      <td>0.011946</td>\n",
       "    </tr>\n",
       "    <tr>\n",
       "      <th>203</th>\n",
       "      <td>Afghanistan</td>\n",
       "      <td>AFG</td>\n",
       "      <td>1953</td>\n",
       "      <td>0.106256</td>\n",
       "      <td>0.037949</td>\n",
       "      <td>0.068307</td>\n",
       "      <td>0.0</td>\n",
       "      <td>0.0</td>\n",
       "      <td>0.0</td>\n",
       "      <td>NaN</td>\n",
       "      <td>0.013685</td>\n",
       "    </tr>\n",
       "    <tr>\n",
       "      <th>204</th>\n",
       "      <td>Afghanistan</td>\n",
       "      <td>AFG</td>\n",
       "      <td>1954</td>\n",
       "      <td>0.106256</td>\n",
       "      <td>0.042502</td>\n",
       "      <td>0.063754</td>\n",
       "      <td>0.0</td>\n",
       "      <td>0.0</td>\n",
       "      <td>0.0</td>\n",
       "      <td>NaN</td>\n",
       "      <td>0.013511</td>\n",
       "    </tr>\n",
       "  </tbody>\n",
       "</table>\n",
       "</div>"
      ],
      "text/plain": [
       "         Country ISO 3166-1 alpha-3  Year     Total      Coal       Oil  Gas  \\\n",
       "200  Afghanistan                AFG  1950  0.084272  0.021068  0.063204  0.0   \n",
       "201  Afghanistan                AFG  1951  0.091600  0.025648  0.065952  0.0   \n",
       "202  Afghanistan                AFG  1952  0.091600  0.031708  0.059892  0.0   \n",
       "203  Afghanistan                AFG  1953  0.106256  0.037949  0.068307  0.0   \n",
       "204  Afghanistan                AFG  1954  0.106256  0.042502  0.063754  0.0   \n",
       "\n",
       "     Cement  Flaring  Other  Per Capita  \n",
       "200     0.0      0.0    NaN    0.011266  \n",
       "201     0.0      0.0    NaN    0.012098  \n",
       "202     0.0      0.0    NaN    0.011946  \n",
       "203     0.0      0.0    NaN    0.013685  \n",
       "204     0.0      0.0    NaN    0.013511  "
      ]
     },
     "execution_count": 43,
     "metadata": {},
     "output_type": "execute_result"
    }
   ],
   "source": [
    "emissions.head()"
   ]
  },
  {
   "cell_type": "code",
   "execution_count": 44,
   "id": "1316fed2",
   "metadata": {
    "colab": {
     "base_uri": "https://localhost:8080/"
    },
    "id": "1316fed2",
    "outputId": "a98d818b-dbb8-4a1b-cc08-291ef038044d"
   },
   "outputs": [
    {
     "data": {
      "text/plain": [
       "Year                             False\n",
       "Country                          False\n",
       "AverageTemperature               False\n",
       "AverageTemperatureUncertainty    False\n",
       "dtype: bool"
      ]
     },
     "execution_count": 44,
     "metadata": {},
     "output_type": "execute_result"
    }
   ],
   "source": [
    "tempsbyYear.isnull().any()"
   ]
  },
  {
   "cell_type": "code",
   "execution_count": 45,
   "id": "-m0aWdkvspgp",
   "metadata": {
    "colab": {
     "base_uri": "https://localhost:8080/"
    },
    "id": "-m0aWdkvspgp",
    "outputId": "f5896534-b6cb-410c-c0f0-f598000c3daa"
   },
   "outputs": [
    {
     "data": {
      "text/plain": [
       "Country               False\n",
       "ISO 3166-1 alpha-3    False\n",
       "Year                  False\n",
       "Total                 False\n",
       "Coal                   True\n",
       "Oil                    True\n",
       "Gas                    True\n",
       "Cement                 True\n",
       "Flaring                True\n",
       "Other                  True\n",
       "Per Capita            False\n",
       "dtype: bool"
      ]
     },
     "execution_count": 45,
     "metadata": {},
     "output_type": "execute_result"
    }
   ],
   "source": [
    "emissions.isnull().any()"
   ]
  },
  {
   "cell_type": "code",
   "execution_count": 46,
   "id": "KvjQMn29oObj",
   "metadata": {
    "colab": {
     "base_uri": "https://localhost:8080/",
     "height": 424
    },
    "id": "KvjQMn29oObj",
    "outputId": "7d16136b-d9fd-460a-853b-55b9459bcae8"
   },
   "outputs": [
    {
     "data": {
      "text/html": [
       "<div>\n",
       "<style scoped>\n",
       "    .dataframe tbody tr th:only-of-type {\n",
       "        vertical-align: middle;\n",
       "    }\n",
       "\n",
       "    .dataframe tbody tr th {\n",
       "        vertical-align: top;\n",
       "    }\n",
       "\n",
       "    .dataframe thead th {\n",
       "        text-align: right;\n",
       "    }\n",
       "</style>\n",
       "<table border=\"1\" class=\"dataframe\">\n",
       "  <thead>\n",
       "    <tr style=\"text-align: right;\">\n",
       "      <th></th>\n",
       "      <th>Country</th>\n",
       "      <th>Year</th>\n",
       "      <th>AverageTemperature</th>\n",
       "      <th>AverageTemperatureUncertainty</th>\n",
       "      <th>ISO 3166-1 alpha-3</th>\n",
       "      <th>Total</th>\n",
       "      <th>Coal</th>\n",
       "      <th>Oil</th>\n",
       "      <th>Gas</th>\n",
       "      <th>Cement</th>\n",
       "      <th>Flaring</th>\n",
       "      <th>Other</th>\n",
       "      <th>Per Capita</th>\n",
       "    </tr>\n",
       "  </thead>\n",
       "  <tbody>\n",
       "    <tr>\n",
       "      <th>0</th>\n",
       "      <td>Afghanistan</td>\n",
       "      <td>1950</td>\n",
       "      <td>13.043500</td>\n",
       "      <td>0.378250</td>\n",
       "      <td>AFG</td>\n",
       "      <td>0.084272</td>\n",
       "      <td>0.021068</td>\n",
       "      <td>0.063204</td>\n",
       "      <td>0.000000</td>\n",
       "      <td>0.000000</td>\n",
       "      <td>0.000000</td>\n",
       "      <td>NaN</td>\n",
       "      <td>0.011266</td>\n",
       "    </tr>\n",
       "    <tr>\n",
       "      <th>1</th>\n",
       "      <td>Albania</td>\n",
       "      <td>1950</td>\n",
       "      <td>13.812833</td>\n",
       "      <td>0.453583</td>\n",
       "      <td>ALB</td>\n",
       "      <td>0.296725</td>\n",
       "      <td>0.043432</td>\n",
       "      <td>0.246114</td>\n",
       "      <td>0.000000</td>\n",
       "      <td>0.007180</td>\n",
       "      <td>0.000000</td>\n",
       "      <td>NaN</td>\n",
       "      <td>0.236891</td>\n",
       "    </tr>\n",
       "    <tr>\n",
       "      <th>2</th>\n",
       "      <td>Algeria</td>\n",
       "      <td>1950</td>\n",
       "      <td>22.781833</td>\n",
       "      <td>0.414333</td>\n",
       "      <td>DZA</td>\n",
       "      <td>3.783605</td>\n",
       "      <td>1.883296</td>\n",
       "      <td>1.740400</td>\n",
       "      <td>0.000000</td>\n",
       "      <td>0.159909</td>\n",
       "      <td>0.000000</td>\n",
       "      <td>NaN</td>\n",
       "      <td>0.419475</td>\n",
       "    </tr>\n",
       "    <tr>\n",
       "      <th>3</th>\n",
       "      <td>Andorra</td>\n",
       "      <td>1950</td>\n",
       "      <td>11.812000</td>\n",
       "      <td>0.339417</td>\n",
       "      <td>AND</td>\n",
       "      <td>0.000000</td>\n",
       "      <td>NaN</td>\n",
       "      <td>NaN</td>\n",
       "      <td>NaN</td>\n",
       "      <td>0.000000</td>\n",
       "      <td>NaN</td>\n",
       "      <td>NaN</td>\n",
       "      <td>0.000000</td>\n",
       "    </tr>\n",
       "    <tr>\n",
       "      <th>4</th>\n",
       "      <td>Angola</td>\n",
       "      <td>1950</td>\n",
       "      <td>21.571833</td>\n",
       "      <td>0.496500</td>\n",
       "      <td>AGO</td>\n",
       "      <td>0.186864</td>\n",
       "      <td>0.059796</td>\n",
       "      <td>0.127068</td>\n",
       "      <td>0.000000</td>\n",
       "      <td>0.000000</td>\n",
       "      <td>0.000000</td>\n",
       "      <td>NaN</td>\n",
       "      <td>0.041728</td>\n",
       "    </tr>\n",
       "    <tr>\n",
       "      <th>...</th>\n",
       "      <td>...</td>\n",
       "      <td>...</td>\n",
       "      <td>...</td>\n",
       "      <td>...</td>\n",
       "      <td>...</td>\n",
       "      <td>...</td>\n",
       "      <td>...</td>\n",
       "      <td>...</td>\n",
       "      <td>...</td>\n",
       "      <td>...</td>\n",
       "      <td>...</td>\n",
       "      <td>...</td>\n",
       "      <td>...</td>\n",
       "    </tr>\n",
       "    <tr>\n",
       "      <th>13243</th>\n",
       "      <td>Venezuela</td>\n",
       "      <td>2013</td>\n",
       "      <td>25.912875</td>\n",
       "      <td>0.484500</td>\n",
       "      <td>VEN</td>\n",
       "      <td>198.427035</td>\n",
       "      <td>0.795088</td>\n",
       "      <td>128.254656</td>\n",
       "      <td>48.511360</td>\n",
       "      <td>3.464689</td>\n",
       "      <td>17.401242</td>\n",
       "      <td>NaN</td>\n",
       "      <td>6.650141</td>\n",
       "    </tr>\n",
       "    <tr>\n",
       "      <th>13244</th>\n",
       "      <td>Vietnam</td>\n",
       "      <td>2013</td>\n",
       "      <td>25.232125</td>\n",
       "      <td>0.383125</td>\n",
       "      <td>VNM</td>\n",
       "      <td>151.518339</td>\n",
       "      <td>56.541395</td>\n",
       "      <td>43.908247</td>\n",
       "      <td>18.718895</td>\n",
       "      <td>30.315962</td>\n",
       "      <td>2.033840</td>\n",
       "      <td>NaN</td>\n",
       "      <td>1.678544</td>\n",
       "    </tr>\n",
       "    <tr>\n",
       "      <th>13245</th>\n",
       "      <td>Yemen</td>\n",
       "      <td>2013</td>\n",
       "      <td>28.129750</td>\n",
       "      <td>1.335000</td>\n",
       "      <td>YEM</td>\n",
       "      <td>27.160406</td>\n",
       "      <td>0.494640</td>\n",
       "      <td>21.320816</td>\n",
       "      <td>2.011536</td>\n",
       "      <td>1.149305</td>\n",
       "      <td>2.184109</td>\n",
       "      <td>NaN</td>\n",
       "      <td>1.006537</td>\n",
       "    </tr>\n",
       "    <tr>\n",
       "      <th>13246</th>\n",
       "      <td>Zambia</td>\n",
       "      <td>2013</td>\n",
       "      <td>21.196000</td>\n",
       "      <td>0.825125</td>\n",
       "      <td>ZMB</td>\n",
       "      <td>4.416159</td>\n",
       "      <td>0.458000</td>\n",
       "      <td>3.253632</td>\n",
       "      <td>0.000000</td>\n",
       "      <td>0.704527</td>\n",
       "      <td>0.000000</td>\n",
       "      <td>NaN</td>\n",
       "      <td>0.289870</td>\n",
       "    </tr>\n",
       "    <tr>\n",
       "      <th>13247</th>\n",
       "      <td>Zimbabwe</td>\n",
       "      <td>2013</td>\n",
       "      <td>20.710750</td>\n",
       "      <td>0.778500</td>\n",
       "      <td>ZWE</td>\n",
       "      <td>11.671374</td>\n",
       "      <td>7.104496</td>\n",
       "      <td>4.103680</td>\n",
       "      <td>0.000000</td>\n",
       "      <td>0.463198</td>\n",
       "      <td>0.000000</td>\n",
       "      <td>NaN</td>\n",
       "      <td>0.861011</td>\n",
       "    </tr>\n",
       "  </tbody>\n",
       "</table>\n",
       "<p>13248 rows × 13 columns</p>\n",
       "</div>"
      ],
      "text/plain": [
       "           Country  Year  AverageTemperature  AverageTemperatureUncertainty  \\\n",
       "0      Afghanistan  1950           13.043500                       0.378250   \n",
       "1          Albania  1950           13.812833                       0.453583   \n",
       "2          Algeria  1950           22.781833                       0.414333   \n",
       "3          Andorra  1950           11.812000                       0.339417   \n",
       "4           Angola  1950           21.571833                       0.496500   \n",
       "...            ...   ...                 ...                            ...   \n",
       "13243    Venezuela  2013           25.912875                       0.484500   \n",
       "13244      Vietnam  2013           25.232125                       0.383125   \n",
       "13245        Yemen  2013           28.129750                       1.335000   \n",
       "13246       Zambia  2013           21.196000                       0.825125   \n",
       "13247     Zimbabwe  2013           20.710750                       0.778500   \n",
       "\n",
       "      ISO 3166-1 alpha-3       Total       Coal         Oil        Gas  \\\n",
       "0                    AFG    0.084272   0.021068    0.063204   0.000000   \n",
       "1                    ALB    0.296725   0.043432    0.246114   0.000000   \n",
       "2                    DZA    3.783605   1.883296    1.740400   0.000000   \n",
       "3                    AND    0.000000        NaN         NaN        NaN   \n",
       "4                    AGO    0.186864   0.059796    0.127068   0.000000   \n",
       "...                  ...         ...        ...         ...        ...   \n",
       "13243                VEN  198.427035   0.795088  128.254656  48.511360   \n",
       "13244                VNM  151.518339  56.541395   43.908247  18.718895   \n",
       "13245                YEM   27.160406   0.494640   21.320816   2.011536   \n",
       "13246                ZMB    4.416159   0.458000    3.253632   0.000000   \n",
       "13247                ZWE   11.671374   7.104496    4.103680   0.000000   \n",
       "\n",
       "          Cement    Flaring  Other  Per Capita  \n",
       "0       0.000000   0.000000    NaN    0.011266  \n",
       "1       0.007180   0.000000    NaN    0.236891  \n",
       "2       0.159909   0.000000    NaN    0.419475  \n",
       "3       0.000000        NaN    NaN    0.000000  \n",
       "4       0.000000   0.000000    NaN    0.041728  \n",
       "...          ...        ...    ...         ...  \n",
       "13243   3.464689  17.401242    NaN    6.650141  \n",
       "13244  30.315962   2.033840    NaN    1.678544  \n",
       "13245   1.149305   2.184109    NaN    1.006537  \n",
       "13246   0.704527   0.000000    NaN    0.289870  \n",
       "13247   0.463198   0.000000    NaN    0.861011  \n",
       "\n",
       "[13248 rows x 13 columns]"
      ]
     },
     "execution_count": 46,
     "metadata": {},
     "output_type": "execute_result"
    }
   ],
   "source": [
    "tempsbyYear = tempsbyYear.set_index(['Country','Year']).join(emissions.set_index(['Country','Year']))\n",
    "tempsbyYear.reset_index(inplace=True)\n",
    "tempsbyYear"
   ]
  },
  {
   "cell_type": "code",
   "execution_count": 47,
   "id": "n4ry0OStv4Q6",
   "metadata": {
    "colab": {
     "base_uri": "https://localhost:8080/"
    },
    "id": "n4ry0OStv4Q6",
    "outputId": "52b02903-217e-4c22-9be6-4af2fe27b42b"
   },
   "outputs": [
    {
     "data": {
      "text/plain": [
       "1950    207\n",
       "1951    207\n",
       "1984    207\n",
       "1985    207\n",
       "1986    207\n",
       "       ... \n",
       "1976    207\n",
       "1977    207\n",
       "1978    207\n",
       "1979    207\n",
       "2013    207\n",
       "Name: Year, Length: 64, dtype: int64"
      ]
     },
     "execution_count": 47,
     "metadata": {},
     "output_type": "execute_result"
    }
   ],
   "source": [
    "tempsbyYear['Year'].value_counts()"
   ]
  },
  {
   "cell_type": "code",
   "execution_count": 48,
   "id": "0oyI_3MAB3hM",
   "metadata": {
    "colab": {
     "base_uri": "https://localhost:8080/"
    },
    "id": "0oyI_3MAB3hM",
    "outputId": "3145ea1a-2da3-4f0b-c951-231a5d450913"
   },
   "outputs": [
    {
     "data": {
      "text/plain": [
       "207"
      ]
     },
     "execution_count": 48,
     "metadata": {},
     "output_type": "execute_result"
    }
   ],
   "source": [
    "tempsbyYear['Country'].nunique()"
   ]
  },
  {
   "cell_type": "code",
   "execution_count": 49,
   "id": "UHKJ3LcyCbmM",
   "metadata": {
    "colab": {
     "base_uri": "https://localhost:8080/"
    },
    "id": "UHKJ3LcyCbmM",
    "outputId": "a62bc834-8a4c-4c1f-ca6b-298b61dd10bc"
   },
   "outputs": [
    {
     "data": {
      "text/plain": [
       "array([], dtype=object)"
      ]
     },
     "execution_count": 49,
     "metadata": {},
     "output_type": "execute_result"
    }
   ],
   "source": [
    "tempsbyYear.loc[tempsbyYear[['Country','Year']].duplicated()]['Country'].unique()"
   ]
  },
  {
   "cell_type": "code",
   "execution_count": 50,
   "id": "jRa4ryrCgXpd",
   "metadata": {
    "colab": {
     "base_uri": "https://localhost:8080/"
    },
    "id": "jRa4ryrCgXpd",
    "outputId": "edee4936-0c12-4bce-ca50-33b6563a62f7"
   },
   "outputs": [],
   "source": [
    "temps_groupby_year = tempsbyYear[['Country','Year','AverageTemperature','Total']].groupby('Year').mean()\n",
    "temps_groupby_country = tempsbyYear[['Country','Year','AverageTemperature','Total']].groupby('Country').mean()"
   ]
  },
  {
   "cell_type": "code",
   "execution_count": 51,
   "id": "uocKjehojQ32",
   "metadata": {
    "colab": {
     "base_uri": "https://localhost:8080/",
     "height": 455
    },
    "id": "uocKjehojQ32",
    "outputId": "68b3315c-3afd-49ef-c303-0826fd77987b"
   },
   "outputs": [
    {
     "data": {
      "text/html": [
       "<div>\n",
       "<style scoped>\n",
       "    .dataframe tbody tr th:only-of-type {\n",
       "        vertical-align: middle;\n",
       "    }\n",
       "\n",
       "    .dataframe tbody tr th {\n",
       "        vertical-align: top;\n",
       "    }\n",
       "\n",
       "    .dataframe thead th {\n",
       "        text-align: right;\n",
       "    }\n",
       "</style>\n",
       "<table border=\"1\" class=\"dataframe\">\n",
       "  <thead>\n",
       "    <tr style=\"text-align: right;\">\n",
       "      <th></th>\n",
       "      <th>Year</th>\n",
       "      <th>AverageTemperature</th>\n",
       "      <th>Total</th>\n",
       "    </tr>\n",
       "    <tr>\n",
       "      <th>Country</th>\n",
       "      <th></th>\n",
       "      <th></th>\n",
       "      <th></th>\n",
       "    </tr>\n",
       "  </thead>\n",
       "  <tbody>\n",
       "    <tr>\n",
       "      <th>Afghanistan</th>\n",
       "      <td>1981.5</td>\n",
       "      <td>14.519943</td>\n",
       "      <td>2.103528</td>\n",
       "    </tr>\n",
       "    <tr>\n",
       "      <th>Albania</th>\n",
       "      <td>1981.5</td>\n",
       "      <td>13.059882</td>\n",
       "      <td>3.851332</td>\n",
       "    </tr>\n",
       "    <tr>\n",
       "      <th>Algeria</th>\n",
       "      <td>1981.5</td>\n",
       "      <td>23.508965</td>\n",
       "      <td>54.946102</td>\n",
       "    </tr>\n",
       "    <tr>\n",
       "      <th>Andorra</th>\n",
       "      <td>1981.5</td>\n",
       "      <td>11.685058</td>\n",
       "      <td>0.183543</td>\n",
       "    </tr>\n",
       "    <tr>\n",
       "      <th>Angola</th>\n",
       "      <td>1981.5</td>\n",
       "      <td>22.151186</td>\n",
       "      <td>7.323238</td>\n",
       "    </tr>\n",
       "    <tr>\n",
       "      <th>...</th>\n",
       "      <td>...</td>\n",
       "      <td>...</td>\n",
       "      <td>...</td>\n",
       "    </tr>\n",
       "    <tr>\n",
       "      <th>Venezuela</th>\n",
       "      <td>1981.5</td>\n",
       "      <td>25.488145</td>\n",
       "      <td>102.346836</td>\n",
       "    </tr>\n",
       "    <tr>\n",
       "      <th>Vietnam</th>\n",
       "      <td>1981.5</td>\n",
       "      <td>24.087290</td>\n",
       "      <td>36.781567</td>\n",
       "    </tr>\n",
       "    <tr>\n",
       "      <th>Yemen</th>\n",
       "      <td>1981.5</td>\n",
       "      <td>26.564711</td>\n",
       "      <td>8.465183</td>\n",
       "    </tr>\n",
       "    <tr>\n",
       "      <th>Zambia</th>\n",
       "      <td>1981.5</td>\n",
       "      <td>21.589061</td>\n",
       "      <td>3.201621</td>\n",
       "    </tr>\n",
       "    <tr>\n",
       "      <th>Zimbabwe</th>\n",
       "      <td>1981.5</td>\n",
       "      <td>21.446009</td>\n",
       "      <td>9.616885</td>\n",
       "    </tr>\n",
       "  </tbody>\n",
       "</table>\n",
       "<p>207 rows × 3 columns</p>\n",
       "</div>"
      ],
      "text/plain": [
       "               Year  AverageTemperature       Total\n",
       "Country                                            \n",
       "Afghanistan  1981.5           14.519943    2.103528\n",
       "Albania      1981.5           13.059882    3.851332\n",
       "Algeria      1981.5           23.508965   54.946102\n",
       "Andorra      1981.5           11.685058    0.183543\n",
       "Angola       1981.5           22.151186    7.323238\n",
       "...             ...                 ...         ...\n",
       "Venezuela    1981.5           25.488145  102.346836\n",
       "Vietnam      1981.5           24.087290   36.781567\n",
       "Yemen        1981.5           26.564711    8.465183\n",
       "Zambia       1981.5           21.589061    3.201621\n",
       "Zimbabwe     1981.5           21.446009    9.616885\n",
       "\n",
       "[207 rows x 3 columns]"
      ]
     },
     "execution_count": 51,
     "metadata": {},
     "output_type": "execute_result"
    }
   ],
   "source": [
    "temps_groupby_country"
   ]
  },
  {
   "cell_type": "code",
   "execution_count": 52,
   "id": "54bed811",
   "metadata": {
    "id": "54bed811"
   },
   "outputs": [],
   "source": [
    "tempsbyYear_unique_countries =  tempsbyYear.loc[~tempsbyYear['Country'].isin(emissions['Country']), 'Country']\n"
   ]
  },
  {
   "cell_type": "code",
   "execution_count": 53,
   "id": "65e6e1cb",
   "metadata": {
    "colab": {
     "base_uri": "https://localhost:8080/"
    },
    "id": "65e6e1cb",
    "outputId": "1355052f-6371-4cda-a6bf-03d33c911d87"
   },
   "outputs": [
    {
     "data": {
      "text/plain": [
       "array(['Congo (Democratic Republic Of The)', \"Côte D'Ivoire\"],\n",
       "      dtype=object)"
      ]
     },
     "execution_count": 53,
     "metadata": {},
     "output_type": "execute_result"
    }
   ],
   "source": [
    "#We need to standardize names\n",
    "tempsbyYear_unique_countries.unique()\n",
    "#missing_countries.nunique()"
   ]
  },
  {
   "cell_type": "code",
   "execution_count": 54,
   "id": "G6xtulxODmUD",
   "metadata": {
    "colab": {
     "base_uri": "https://localhost:8080/",
     "height": 424
    },
    "id": "G6xtulxODmUD",
    "outputId": "5e870bcb-7972-4085-bddc-eba8115bd1b3"
   },
   "outputs": [
    {
     "data": {
      "text/html": [
       "<div>\n",
       "<style scoped>\n",
       "    .dataframe tbody tr th:only-of-type {\n",
       "        vertical-align: middle;\n",
       "    }\n",
       "\n",
       "    .dataframe tbody tr th {\n",
       "        vertical-align: top;\n",
       "    }\n",
       "\n",
       "    .dataframe thead th {\n",
       "        text-align: right;\n",
       "    }\n",
       "</style>\n",
       "<table border=\"1\" class=\"dataframe\">\n",
       "  <thead>\n",
       "    <tr style=\"text-align: right;\">\n",
       "      <th></th>\n",
       "      <th>Country</th>\n",
       "      <th>Year</th>\n",
       "      <th>AverageTemperature</th>\n",
       "      <th>AverageTemperatureUncertainty</th>\n",
       "      <th>ISO 3166-1 alpha-3</th>\n",
       "      <th>Total</th>\n",
       "      <th>Coal</th>\n",
       "      <th>Oil</th>\n",
       "      <th>Gas</th>\n",
       "      <th>Cement</th>\n",
       "      <th>Flaring</th>\n",
       "      <th>Other</th>\n",
       "      <th>Per Capita</th>\n",
       "    </tr>\n",
       "  </thead>\n",
       "  <tbody>\n",
       "  </tbody>\n",
       "</table>\n",
       "</div>"
      ],
      "text/plain": [
       "Empty DataFrame\n",
       "Columns: [Country, Year, AverageTemperature, AverageTemperatureUncertainty, ISO 3166-1 alpha-3, Total, Coal, Oil, Gas, Cement, Flaring, Other, Per Capita]\n",
       "Index: []"
      ]
     },
     "execution_count": 54,
     "metadata": {},
     "output_type": "execute_result"
    }
   ],
   "source": [
    "tempsbyYear.loc[tempsbyYear['Country']=='Denmark (Europe)']"
   ]
  },
  {
   "cell_type": "code",
   "execution_count": 55,
   "id": "1S00G1hrCw2a",
   "metadata": {
    "id": "1S00G1hrCw2a"
   },
   "outputs": [],
   "source": [
    "emissions_unique_countries =  emissions.loc[~emissions['Country'].isin(tempsbyYear['Country']), 'Country']\n"
   ]
  },
  {
   "cell_type": "code",
   "execution_count": 56,
   "id": "1SqxDj4gC15n",
   "metadata": {
    "colab": {
     "base_uri": "https://localhost:8080/"
    },
    "id": "1SqxDj4gC15n",
    "outputId": "58279fc5-6538-422f-b09f-dec06cd7990e"
   },
   "outputs": [
    {
     "data": {
      "text/plain": [
       "array([\"Côte d'Ivoire\", 'Democratic Republic of the Congo'], dtype=object)"
      ]
     },
     "execution_count": 56,
     "metadata": {},
     "output_type": "execute_result"
    }
   ],
   "source": [
    "emissions_unique_countries.unique()"
   ]
  },
  {
   "cell_type": "code",
   "execution_count": 57,
   "id": "246accde",
   "metadata": {
    "id": "246accde",
    "outputId": "3fa3227b-95be-46ba-8a96-d5807cd3e49f"
   },
   "outputs": [
    {
     "data": {
      "text/plain": [
       "207"
      ]
     },
     "execution_count": 57,
     "metadata": {},
     "output_type": "execute_result"
    }
   ],
   "source": [
    "emissions['Country'].nunique()"
   ]
  },
  {
   "cell_type": "code",
   "execution_count": 58,
   "id": "a448cd06",
   "metadata": {
    "id": "a448cd06",
    "outputId": "07a6d094-429d-4e85-94db-1fae04f85e2e"
   },
   "outputs": [
    {
     "data": {
      "text/plain": [
       "207"
      ]
     },
     "execution_count": 58,
     "metadata": {},
     "output_type": "execute_result"
    }
   ],
   "source": [
    "tempsbyYear['Country'].nunique()"
   ]
  },
  {
   "cell_type": "code",
   "execution_count": null,
   "id": "afbba22f",
   "metadata": {},
   "outputs": [],
   "source": [
    "combined_df = "
   ]
  }
 ],
 "metadata": {
  "colab": {
   "provenance": []
  },
  "kernelspec": {
   "display_name": "Python 3 (ipykernel)",
   "language": "python",
   "name": "python3"
  },
  "language_info": {
   "codemirror_mode": {
    "name": "ipython",
    "version": 3
   },
   "file_extension": ".py",
   "mimetype": "text/x-python",
   "name": "python",
   "nbconvert_exporter": "python",
   "pygments_lexer": "ipython3",
   "version": "3.9.7"
  }
 },
 "nbformat": 4,
 "nbformat_minor": 5
}
