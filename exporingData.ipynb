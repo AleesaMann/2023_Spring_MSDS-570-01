{
 "cells": [
  {
   "cell_type": "code",
   "execution_count": 1,
   "id": "8f951d94",
   "metadata": {},
   "outputs": [],
   "source": [
    "import pandas as pd"
   ]
  },
  {
   "cell_type": "code",
   "execution_count": 2,
   "id": "3127a07b",
   "metadata": {},
   "outputs": [],
   "source": [
    "# Looking at Emissions Dataset"
   ]
  },
  {
   "cell_type": "code",
   "execution_count": 3,
   "id": "776b2edd",
   "metadata": {},
   "outputs": [],
   "source": [
    "emissions = pd.read_csv('./Emissions Datasets/GCB2022v27_MtCO2_flat.csv')"
   ]
  },
  {
   "cell_type": "code",
   "execution_count": 4,
   "id": "319d18cd",
   "metadata": {},
   "outputs": [
    {
     "data": {
      "text/plain": [
       "Index(['Country', 'ISO 3166-1 alpha-3', 'Year', 'Total', 'Coal', 'Oil', 'Gas',\n",
       "       'Cement', 'Flaring', 'Other', 'Per Capita'],\n",
       "      dtype='object')"
      ]
     },
     "execution_count": 4,
     "metadata": {},
     "output_type": "execute_result"
    }
   ],
   "source": [
    "emissions.columns"
   ]
  },
  {
   "cell_type": "code",
   "execution_count": 5,
   "id": "7a4aa090",
   "metadata": {},
   "outputs": [
    {
     "name": "stdout",
     "output_type": "stream",
     "text": [
      "DF shape: (63104, 11)\n",
      "DF number of countries: 232\n",
      "DF number of years: 272 from 1750 to 2021\n"
     ]
    }
   ],
   "source": [
    "print(\"DF shape:\",emissions.shape)\n",
    "print(\"DF number of countries:\", emissions['Country'].nunique())\n",
    "print(\"DF number of years:\", emissions['Year'].nunique(), \"from\", emissions['Year'].min(), \"to\", emissions['Year'].max())"
   ]
  },
  {
   "cell_type": "code",
   "execution_count": 6,
   "id": "f371ba23",
   "metadata": {},
   "outputs": [],
   "source": [
    "emissions = emissions.loc[emissions['Year'] >= 1950]"
   ]
  },
  {
   "cell_type": "code",
   "execution_count": 7,
   "id": "f0870ace",
   "metadata": {},
   "outputs": [
    {
     "data": {
      "text/plain": [
       "Country               False\n",
       "ISO 3166-1 alpha-3     True\n",
       "Year                  False\n",
       "Total                 False\n",
       "Coal                   True\n",
       "Oil                    True\n",
       "Gas                    True\n",
       "Cement                 True\n",
       "Flaring                True\n",
       "Other                  True\n",
       "Per Capita             True\n",
       "dtype: bool"
      ]
     },
     "execution_count": 7,
     "metadata": {},
     "output_type": "execute_result"
    }
   ],
   "source": [
    "emissions.isnull().any()"
   ]
  },
  {
   "cell_type": "code",
   "execution_count": 8,
   "id": "49a9f319",
   "metadata": {},
   "outputs": [
    {
     "name": "stdout",
     "output_type": "stream",
     "text": [
      "DF shape: (16704, 11)\n",
      "DF number of countries: 232\n",
      "DF number of years: 72 from 1950 to 2021\n"
     ]
    }
   ],
   "source": [
    "print(\"DF shape:\",emissions.shape)\n",
    "print(\"DF number of countries:\", emissions['Country'].nunique())\n",
    "print(\"DF number of years:\", emissions['Year'].nunique(), \"from\", emissions['Year'].min(), \"to\", emissions['Year'].max())"
   ]
  },
  {
   "cell_type": "code",
   "execution_count": 9,
   "id": "662d73f6",
   "metadata": {},
   "outputs": [],
   "source": [
    "# Looking at Temperatures Dataset"
   ]
  },
  {
   "cell_type": "code",
   "execution_count": 10,
   "id": "4ccdd333",
   "metadata": {},
   "outputs": [],
   "source": [
    "temperatures = pd.read_csv('./Temperatures Datasets/GlobalLandTemperaturesByCountry.csv')"
   ]
  },
  {
   "cell_type": "code",
   "execution_count": 11,
   "id": "f913e2f5",
   "metadata": {},
   "outputs": [
    {
     "data": {
      "text/plain": [
       "Index(['dt', 'AverageTemperature', 'AverageTemperatureUncertainty', 'Country'], dtype='object')"
      ]
     },
     "execution_count": 11,
     "metadata": {},
     "output_type": "execute_result"
    }
   ],
   "source": [
    "temperatures.columns"
   ]
  },
  {
   "cell_type": "code",
   "execution_count": 12,
   "id": "7c81ae8c",
   "metadata": {},
   "outputs": [
    {
     "data": {
      "text/html": [
       "<div>\n",
       "<style scoped>\n",
       "    .dataframe tbody tr th:only-of-type {\n",
       "        vertical-align: middle;\n",
       "    }\n",
       "\n",
       "    .dataframe tbody tr th {\n",
       "        vertical-align: top;\n",
       "    }\n",
       "\n",
       "    .dataframe thead th {\n",
       "        text-align: right;\n",
       "    }\n",
       "</style>\n",
       "<table border=\"1\" class=\"dataframe\">\n",
       "  <thead>\n",
       "    <tr style=\"text-align: right;\">\n",
       "      <th></th>\n",
       "      <th>dt</th>\n",
       "      <th>AverageTemperature</th>\n",
       "      <th>AverageTemperatureUncertainty</th>\n",
       "      <th>Country</th>\n",
       "    </tr>\n",
       "  </thead>\n",
       "  <tbody>\n",
       "    <tr>\n",
       "      <th>0</th>\n",
       "      <td>1743-11-01</td>\n",
       "      <td>4.384</td>\n",
       "      <td>2.294</td>\n",
       "      <td>Åland</td>\n",
       "    </tr>\n",
       "    <tr>\n",
       "      <th>1</th>\n",
       "      <td>1743-12-01</td>\n",
       "      <td>NaN</td>\n",
       "      <td>NaN</td>\n",
       "      <td>Åland</td>\n",
       "    </tr>\n",
       "    <tr>\n",
       "      <th>2</th>\n",
       "      <td>1744-01-01</td>\n",
       "      <td>NaN</td>\n",
       "      <td>NaN</td>\n",
       "      <td>Åland</td>\n",
       "    </tr>\n",
       "    <tr>\n",
       "      <th>3</th>\n",
       "      <td>1744-02-01</td>\n",
       "      <td>NaN</td>\n",
       "      <td>NaN</td>\n",
       "      <td>Åland</td>\n",
       "    </tr>\n",
       "    <tr>\n",
       "      <th>4</th>\n",
       "      <td>1744-03-01</td>\n",
       "      <td>NaN</td>\n",
       "      <td>NaN</td>\n",
       "      <td>Åland</td>\n",
       "    </tr>\n",
       "  </tbody>\n",
       "</table>\n",
       "</div>"
      ],
      "text/plain": [
       "           dt  AverageTemperature  AverageTemperatureUncertainty Country\n",
       "0  1743-11-01               4.384                          2.294   Åland\n",
       "1  1743-12-01                 NaN                            NaN   Åland\n",
       "2  1744-01-01                 NaN                            NaN   Åland\n",
       "3  1744-02-01                 NaN                            NaN   Åland\n",
       "4  1744-03-01                 NaN                            NaN   Åland"
      ]
     },
     "execution_count": 12,
     "metadata": {},
     "output_type": "execute_result"
    }
   ],
   "source": [
    "temperatures.head()"
   ]
  },
  {
   "cell_type": "markdown",
   "id": "6d6d2e60",
   "metadata": {},
   "source": [
    "### Splitting Date-Time"
   ]
  },
  {
   "cell_type": "code",
   "execution_count": 13,
   "id": "e2ba0997",
   "metadata": {},
   "outputs": [],
   "source": [
    "temperatures['dt']= pd.to_datetime(temperatures['dt'],format='%Y-%m-%d')"
   ]
  },
  {
   "cell_type": "code",
   "execution_count": 16,
   "id": "ab586da7",
   "metadata": {},
   "outputs": [
    {
     "data": {
      "text/plain": [
       "dt                               datetime64[ns]\n",
       "AverageTemperature                      float64\n",
       "AverageTemperatureUncertainty           float64\n",
       "Country                                  object\n",
       "dtype: object"
      ]
     },
     "execution_count": 16,
     "metadata": {},
     "output_type": "execute_result"
    }
   ],
   "source": [
    "temperatures.dtypes"
   ]
  },
  {
   "cell_type": "code",
   "execution_count": 17,
   "id": "2f132495",
   "metadata": {},
   "outputs": [],
   "source": [
    "temperatures['Year'] = temperatures['dt'].dt.year"
   ]
  },
  {
   "cell_type": "code",
   "execution_count": 18,
   "id": "cd559049",
   "metadata": {},
   "outputs": [
    {
     "name": "stdout",
     "output_type": "stream",
     "text": [
      "DF shape: (577462, 5)\n",
      "DF number of countries: 243\n",
      "DF number of years: 271 from 1743 to 2013\n"
     ]
    }
   ],
   "source": [
    "print(\"DF shape:\",temperatures.shape)\n",
    "print(\"DF number of countries:\", temperatures['Country'].nunique())\n",
    "print(\"DF number of years:\", temperatures['Year'].nunique(), \"from\", temperatures['Year'].min(), \"to\", temperatures['Year'].max())"
   ]
  },
  {
   "cell_type": "code",
   "execution_count": 19,
   "id": "0b267810",
   "metadata": {},
   "outputs": [
    {
     "data": {
      "text/html": [
       "<div>\n",
       "<style scoped>\n",
       "    .dataframe tbody tr th:only-of-type {\n",
       "        vertical-align: middle;\n",
       "    }\n",
       "\n",
       "    .dataframe tbody tr th {\n",
       "        vertical-align: top;\n",
       "    }\n",
       "\n",
       "    .dataframe thead th {\n",
       "        text-align: right;\n",
       "    }\n",
       "</style>\n",
       "<table border=\"1\" class=\"dataframe\">\n",
       "  <thead>\n",
       "    <tr style=\"text-align: right;\">\n",
       "      <th></th>\n",
       "      <th>dt</th>\n",
       "      <th>AverageTemperature</th>\n",
       "      <th>AverageTemperatureUncertainty</th>\n",
       "      <th>Country</th>\n",
       "      <th>Year</th>\n",
       "    </tr>\n",
       "  </thead>\n",
       "  <tbody>\n",
       "    <tr>\n",
       "      <th>0</th>\n",
       "      <td>1743-11-01</td>\n",
       "      <td>4.384</td>\n",
       "      <td>2.294</td>\n",
       "      <td>Åland</td>\n",
       "      <td>1743</td>\n",
       "    </tr>\n",
       "    <tr>\n",
       "      <th>1</th>\n",
       "      <td>1743-12-01</td>\n",
       "      <td>NaN</td>\n",
       "      <td>NaN</td>\n",
       "      <td>Åland</td>\n",
       "      <td>1743</td>\n",
       "    </tr>\n",
       "    <tr>\n",
       "      <th>2</th>\n",
       "      <td>1744-01-01</td>\n",
       "      <td>NaN</td>\n",
       "      <td>NaN</td>\n",
       "      <td>Åland</td>\n",
       "      <td>1744</td>\n",
       "    </tr>\n",
       "    <tr>\n",
       "      <th>3</th>\n",
       "      <td>1744-02-01</td>\n",
       "      <td>NaN</td>\n",
       "      <td>NaN</td>\n",
       "      <td>Åland</td>\n",
       "      <td>1744</td>\n",
       "    </tr>\n",
       "    <tr>\n",
       "      <th>4</th>\n",
       "      <td>1744-03-01</td>\n",
       "      <td>NaN</td>\n",
       "      <td>NaN</td>\n",
       "      <td>Åland</td>\n",
       "      <td>1744</td>\n",
       "    </tr>\n",
       "  </tbody>\n",
       "</table>\n",
       "</div>"
      ],
      "text/plain": [
       "          dt  AverageTemperature  AverageTemperatureUncertainty Country  Year\n",
       "0 1743-11-01               4.384                          2.294   Åland  1743\n",
       "1 1743-12-01                 NaN                            NaN   Åland  1743\n",
       "2 1744-01-01                 NaN                            NaN   Åland  1744\n",
       "3 1744-02-01                 NaN                            NaN   Åland  1744\n",
       "4 1744-03-01                 NaN                            NaN   Åland  1744"
      ]
     },
     "execution_count": 19,
     "metadata": {},
     "output_type": "execute_result"
    }
   ],
   "source": [
    "temperatures.head()"
   ]
  },
  {
   "cell_type": "code",
   "execution_count": 23,
   "id": "5da80c3e",
   "metadata": {},
   "outputs": [],
   "source": [
    "tempsbyYear = temperatures.groupby(['Year', 'Country']).mean().reset_index()"
   ]
  },
  {
   "cell_type": "code",
   "execution_count": 24,
   "id": "ad2907fa",
   "metadata": {},
   "outputs": [],
   "source": [
    "tempsbyYear = tempsbyYear.loc[tempsbyYear['Year']>= 1950]"
   ]
  },
  {
   "cell_type": "code",
   "execution_count": 27,
   "id": "966a3146",
   "metadata": {},
   "outputs": [
    {
     "data": {
      "text/plain": [
       "Year                             False\n",
       "Country                          False\n",
       "AverageTemperature                True\n",
       "AverageTemperatureUncertainty     True\n",
       "dtype: bool"
      ]
     },
     "execution_count": 27,
     "metadata": {},
     "output_type": "execute_result"
    }
   ],
   "source": [
    "tempsbyYear.head()\n",
    "tempsbyYear.isnull().any()"
   ]
  },
  {
   "cell_type": "code",
   "execution_count": 30,
   "id": "ace7e36d",
   "metadata": {},
   "outputs": [
    {
     "data": {
      "text/html": [
       "<div>\n",
       "<style scoped>\n",
       "    .dataframe tbody tr th:only-of-type {\n",
       "        vertical-align: middle;\n",
       "    }\n",
       "\n",
       "    .dataframe tbody tr th {\n",
       "        vertical-align: top;\n",
       "    }\n",
       "\n",
       "    .dataframe thead th {\n",
       "        text-align: right;\n",
       "    }\n",
       "</style>\n",
       "<table border=\"1\" class=\"dataframe\">\n",
       "  <thead>\n",
       "    <tr style=\"text-align: right;\">\n",
       "      <th></th>\n",
       "      <th>Year</th>\n",
       "      <th>Country</th>\n",
       "      <th>AverageTemperature</th>\n",
       "      <th>AverageTemperatureUncertainty</th>\n",
       "    </tr>\n",
       "  </thead>\n",
       "  <tbody>\n",
       "    <tr>\n",
       "      <th>32699</th>\n",
       "      <td>1950</td>\n",
       "      <td>Antarctica</td>\n",
       "      <td>NaN</td>\n",
       "      <td>2.215200</td>\n",
       "    </tr>\n",
       "    <tr>\n",
       "      <th>32942</th>\n",
       "      <td>1951</td>\n",
       "      <td>Antarctica</td>\n",
       "      <td>NaN</td>\n",
       "      <td>2.153333</td>\n",
       "    </tr>\n",
       "    <tr>\n",
       "      <th>33185</th>\n",
       "      <td>1952</td>\n",
       "      <td>Antarctica</td>\n",
       "      <td>NaN</td>\n",
       "      <td>2.105000</td>\n",
       "    </tr>\n",
       "    <tr>\n",
       "      <th>33428</th>\n",
       "      <td>1953</td>\n",
       "      <td>Antarctica</td>\n",
       "      <td>NaN</td>\n",
       "      <td>NaN</td>\n",
       "    </tr>\n",
       "    <tr>\n",
       "      <th>33671</th>\n",
       "      <td>1954</td>\n",
       "      <td>Antarctica</td>\n",
       "      <td>NaN</td>\n",
       "      <td>2.218167</td>\n",
       "    </tr>\n",
       "    <tr>\n",
       "      <th>...</th>\n",
       "      <td>...</td>\n",
       "      <td>...</td>\n",
       "      <td>...</td>\n",
       "      <td>...</td>\n",
       "    </tr>\n",
       "    <tr>\n",
       "      <th>47036</th>\n",
       "      <td>2009</td>\n",
       "      <td>Antarctica</td>\n",
       "      <td>NaN</td>\n",
       "      <td>0.606500</td>\n",
       "    </tr>\n",
       "    <tr>\n",
       "      <th>47279</th>\n",
       "      <td>2010</td>\n",
       "      <td>Antarctica</td>\n",
       "      <td>NaN</td>\n",
       "      <td>0.590083</td>\n",
       "    </tr>\n",
       "    <tr>\n",
       "      <th>47522</th>\n",
       "      <td>2011</td>\n",
       "      <td>Antarctica</td>\n",
       "      <td>NaN</td>\n",
       "      <td>0.625833</td>\n",
       "    </tr>\n",
       "    <tr>\n",
       "      <th>47765</th>\n",
       "      <td>2012</td>\n",
       "      <td>Antarctica</td>\n",
       "      <td>NaN</td>\n",
       "      <td>0.709417</td>\n",
       "    </tr>\n",
       "    <tr>\n",
       "      <th>48008</th>\n",
       "      <td>2013</td>\n",
       "      <td>Antarctica</td>\n",
       "      <td>NaN</td>\n",
       "      <td>0.615250</td>\n",
       "    </tr>\n",
       "  </tbody>\n",
       "</table>\n",
       "<p>64 rows × 4 columns</p>\n",
       "</div>"
      ],
      "text/plain": [
       "       Year     Country  AverageTemperature  AverageTemperatureUncertainty\n",
       "32699  1950  Antarctica                 NaN                       2.215200\n",
       "32942  1951  Antarctica                 NaN                       2.153333\n",
       "33185  1952  Antarctica                 NaN                       2.105000\n",
       "33428  1953  Antarctica                 NaN                            NaN\n",
       "33671  1954  Antarctica                 NaN                       2.218167\n",
       "...     ...         ...                 ...                            ...\n",
       "47036  2009  Antarctica                 NaN                       0.606500\n",
       "47279  2010  Antarctica                 NaN                       0.590083\n",
       "47522  2011  Antarctica                 NaN                       0.625833\n",
       "47765  2012  Antarctica                 NaN                       0.709417\n",
       "48008  2013  Antarctica                 NaN                       0.615250\n",
       "\n",
       "[64 rows x 4 columns]"
      ]
     },
     "execution_count": 30,
     "metadata": {},
     "output_type": "execute_result"
    }
   ],
   "source": [
    "tempsbyYear.loc[tempsbyYear['AverageTemperature'].isnull()]"
   ]
  },
  {
   "cell_type": "code",
   "execution_count": 34,
   "id": "14d3a72b",
   "metadata": {},
   "outputs": [],
   "source": [
    "tempsbyYear = tempsbyYear.loc[~(tempsbyYear['Country']=='Antarctica')]"
   ]
  },
  {
   "cell_type": "code",
   "execution_count": 35,
   "id": "1316fed2",
   "metadata": {},
   "outputs": [
    {
     "data": {
      "text/plain": [
       "Year                             False\n",
       "Country                          False\n",
       "AverageTemperature               False\n",
       "AverageTemperatureUncertainty    False\n",
       "dtype: bool"
      ]
     },
     "execution_count": 35,
     "metadata": {},
     "output_type": "execute_result"
    }
   ],
   "source": [
    "tempsbyYear.isnull().any()"
   ]
  },
  {
   "cell_type": "code",
   "execution_count": 44,
   "id": "54bed811",
   "metadata": {},
   "outputs": [],
   "source": [
    "missing_countries =  tempsbyYear.loc[~tempsbyYear['Country'].isin(emissions['Country']), 'Country']\n"
   ]
  },
  {
   "cell_type": "code",
   "execution_count": 48,
   "id": "65e6e1cb",
   "metadata": {},
   "outputs": [
    {
     "data": {
      "text/plain": [
       "array(['Africa', 'American Samoa', 'Antigua And Barbuda', 'Asia',\n",
       "       'Baker Island', 'Bonaire, Saint Eustatius And Saba',\n",
       "       'Bosnia And Herzegovina', 'Burma', 'Cayman Islands',\n",
       "       'Congo (Democratic Republic Of The)', \"Côte D'Ivoire\",\n",
       "       'Denmark (Europe)', 'Europe', 'Falkland Islands (Islas Malvinas)',\n",
       "       'Faroe Islands', 'Federated States Of Micronesia',\n",
       "       'France (Europe)', 'French Southern And Antarctic Lands',\n",
       "       'Gaza Strip', 'Guam', 'Guernsey', 'Guinea Bissau',\n",
       "       'Heard Island And Mcdonald Islands', 'Isle Of Man', 'Jersey',\n",
       "       'Kingman Reef', 'Macau', 'Macedonia', 'Monaco',\n",
       "       'Netherlands (Europe)', 'North America',\n",
       "       'Northern Mariana Islands', 'Oceania', 'Palestina',\n",
       "       'Palmyra Atoll', 'Reunion', 'Saint Barthélemy',\n",
       "       'Saint Kitts And Nevis', 'Saint Martin',\n",
       "       'Saint Pierre And Miquelon', 'Saint Vincent And The Grenadines',\n",
       "       'San Marino', 'Sao Tome And Principe', 'Sint Maarten',\n",
       "       'South America', 'South Georgia And The South Sandwich Isla',\n",
       "       'Svalbard And Jan Mayen', 'Timor Leste', 'Trinidad And Tobago',\n",
       "       'Turks And Caicas Islands', 'United Kingdom (Europe)',\n",
       "       'United States', 'Vietnam', 'Virgin Islands', 'Western Sahara',\n",
       "       'Åland'], dtype=object)"
      ]
     },
     "execution_count": 48,
     "metadata": {},
     "output_type": "execute_result"
    }
   ],
   "source": [
    "#We need to standardize names\n",
    "missing_countries.unique()\n",
    "#missing_countries.nunique()"
   ]
  },
  {
   "cell_type": "code",
   "execution_count": 42,
   "id": "246accde",
   "metadata": {},
   "outputs": [
    {
     "data": {
      "text/plain": [
       "232"
      ]
     },
     "execution_count": 42,
     "metadata": {},
     "output_type": "execute_result"
    }
   ],
   "source": [
    "emissions['Country'].nunique()"
   ]
  },
  {
   "cell_type": "code",
   "execution_count": 43,
   "id": "a448cd06",
   "metadata": {},
   "outputs": [
    {
     "data": {
      "text/plain": [
       "242"
      ]
     },
     "execution_count": 43,
     "metadata": {},
     "output_type": "execute_result"
    }
   ],
   "source": [
    "tempsbyYear['Country'].nunique()"
   ]
  }
 ],
 "metadata": {
  "kernelspec": {
   "display_name": "Python 3 (ipykernel)",
   "language": "python",
   "name": "python3"
  },
  "language_info": {
   "codemirror_mode": {
    "name": "ipython",
    "version": 3
   },
   "file_extension": ".py",
   "mimetype": "text/x-python",
   "name": "python",
   "nbconvert_exporter": "python",
   "pygments_lexer": "ipython3",
   "version": "3.9.7"
  }
 },
 "nbformat": 4,
 "nbformat_minor": 5
}
